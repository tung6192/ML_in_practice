{
  "nbformat": 4,
  "nbformat_minor": 0,
  "metadata": {
    "colab": {
      "name": "MNIST in Keras.ipynb",
      "version": "0.3.2",
      "views": {},
      "default_view": {},
      "provenance": []
    },
    "kernelspec": {
      "display_name": "Python 3",
      "language": "python",
      "name": "python3"
    },
    "accelerator": "GPU"
  },
  "cells": [
    {
      "metadata": {
        "id": "YQJ7wN1zyB6C",
        "colab_type": "code",
        "colab": {
          "autoexec": {
            "startup": false,
            "wait_interval": 0
          }
        }
      },
      "cell_type": "code",
      "source": [
        "%matplotlib inline"
      ],
      "execution_count": 0,
      "outputs": []
    },
    {
      "metadata": {
        "id": "DazAGH1HyB6N",
        "colab_type": "text"
      },
      "cell_type": "markdown",
      "source": [
        "# Building a simple neural-network with Keras\n",
        "\n",
        "**Author: Xavier Snelgrove**\n",
        "\n",
        "This is a simple quick-start in performing digit recognition in a neural network in Keras, for a short tutorial at the University of Toronto. It is largely based on the `mnist_mlp.py` example from the Keras source.\n"
      ]
    },
    {
      "metadata": {
        "id": "LP4GhpcTyB6P",
        "colab_type": "text"
      },
      "cell_type": "markdown",
      "source": [
        "## Install prerequisites\n",
        "First steps (instructions for Mac or Linux). You need to install a recent version of Python, plus the packages `keras`, `numpy`, `matplotlib` and `jupyter`.\n",
        "\n",
        "### Install a recent Python\n",
        "\n",
        "If you haven't installed a recent Python I recommend installing via Homebrew on a Mac from http://brew.sh and then installing Python via `brew install python`.\n",
        "\n",
        "\n",
        "### Configure a virtual environment\n",
        "\n",
        "You can install the packages globally, but I suggest installing them in a `virtualenv` virtual environment that basically encapsulates a full isolated Python environment. First you'll need to install a Python package manager called `pip` thus:\n",
        "\n",
        "    easy_install pip\n",
        "    \n",
        "(If you get a permissions error, try adding a `sudo` to the beginning, so `sudo easy_install pip`)\n",
        "\n",
        "Now install virtualenv thus:\n",
        "\n",
        "    pip install virtualenv\n",
        "\n",
        "Navigate to your home directory `cd ~` and create a virtual environment. We'll call it `kerasenv`\n",
        "\n",
        "    virtualenv kerasenv\n",
        "\n",
        "Now, to switch your shell environment to be within the env:\n",
        "\n",
        "    source kerasenv/bin/activate\n",
        "    \n",
        "Great: now you can install the other prerequisites into this environment.\n",
        "\n",
        "    pip install numpy jupyter keras matplotlib\n",
        "    \n",
        "\n",
        "## Open a new notebook\n",
        "\n",
        "Now that everything's installed, you can open one of these web-based Python environments with the following command:\n",
        "\n",
        "    ipython notebook\n",
        "    \n",
        "Create a new Python notebook from the \"New\" menu at the top-right:\n",
        "\n",
        "<img src=\"newnotebook.png\">\n",
        "\n",
        "You should now be able to run Python in your browser!"
      ]
    },
    {
      "metadata": {
        "id": "ZVSI7o7LyB6R",
        "colab_type": "text"
      },
      "cell_type": "markdown",
      "source": [
        "## Time to build a neural network!\n",
        "First let's import some prerequisites"
      ]
    },
    {
      "metadata": {
        "id": "aCH90L8iyB6U",
        "colab_type": "code",
        "colab": {
          "autoexec": {
            "startup": false,
            "wait_interval": 0
          },
          "base_uri": "https://localhost:8080/",
          "height": 34
        },
        "outputId": "57453cf4-4335-46c5-c47f-a32a9a42dcca",
        "executionInfo": {
          "status": "ok",
          "timestamp": 1520927328509,
          "user_tz": -420,
          "elapsed": 890,
          "user": {
            "displayName": "Tung Nguyen Dinh",
            "photoUrl": "//lh3.googleusercontent.com/-Nztn065aJ4Y/AAAAAAAAAAI/AAAAAAAAAAc/7mgFwNJ8bA0/s50-c-k-no/photo.jpg",
            "userId": "103251380706581023835"
          }
        }
      },
      "cell_type": "code",
      "source": [
        "import numpy as np\n",
        "import matplotlib.pyplot as plt\n",
        "plt.rcParams['figure.figsize'] = (7,7) # Make the figures a bit bigger\n",
        "\n",
        "from keras.datasets import mnist\n",
        "from keras.models import Sequential\n",
        "from keras.layers.core import Dense, Dropout, Activation\n",
        "from keras.utils import np_utils"
      ],
      "execution_count": 2,
      "outputs": [
        {
          "output_type": "stream",
          "text": [
            "Using MXNet backend.\n"
          ],
          "name": "stderr"
        }
      ]
    },
    {
      "metadata": {
        "id": "uO7FE_6SyB6i",
        "colab_type": "text"
      },
      "cell_type": "markdown",
      "source": [
        "## Load training data"
      ]
    },
    {
      "metadata": {
        "id": "UdoFPateyB6k",
        "colab_type": "code",
        "colab": {
          "autoexec": {
            "startup": false,
            "wait_interval": 0
          },
          "base_uri": "https://localhost:8080/",
          "height": 51
        },
        "outputId": "b2f58329-4aaf-4e24-b8f5-4203d4638bc4",
        "executionInfo": {
          "status": "ok",
          "timestamp": 1520927331747,
          "user_tz": -420,
          "elapsed": 1909,
          "user": {
            "displayName": "Tung Nguyen Dinh",
            "photoUrl": "//lh3.googleusercontent.com/-Nztn065aJ4Y/AAAAAAAAAAI/AAAAAAAAAAc/7mgFwNJ8bA0/s50-c-k-no/photo.jpg",
            "userId": "103251380706581023835"
          }
        }
      },
      "cell_type": "code",
      "source": [
        "nb_classes = 10\n",
        "\n",
        "# the data, shuffled and split between tran and test sets\n",
        "(X_train, y_train), (X_test, y_test) = mnist.load_data()\n",
        "print(\"X_train original shape\", X_train.shape)\n",
        "print(\"y_train original shape\", y_train.shape)"
      ],
      "execution_count": 3,
      "outputs": [
        {
          "output_type": "stream",
          "text": [
            "X_train original shape (60000, 28, 28)\n",
            "y_train original shape (60000,)\n"
          ],
          "name": "stdout"
        }
      ]
    },
    {
      "metadata": {
        "id": "i3Y9d9J4yB6u",
        "colab_type": "text"
      },
      "cell_type": "markdown",
      "source": [
        "Let's look at some examples of the training data"
      ]
    },
    {
      "metadata": {
        "id": "cx-6nejTyB6w",
        "colab_type": "code",
        "colab": {
          "autoexec": {
            "startup": false,
            "wait_interval": 0
          },
          "base_uri": "https://localhost:8080/",
          "height": 443
        },
        "outputId": "9d589904-54bb-42ed-c17b-bdc1151f909b",
        "executionInfo": {
          "status": "ok",
          "timestamp": 1520927333487,
          "user_tz": -420,
          "elapsed": 1644,
          "user": {
            "displayName": "Tung Nguyen Dinh",
            "photoUrl": "//lh3.googleusercontent.com/-Nztn065aJ4Y/AAAAAAAAAAI/AAAAAAAAAAc/7mgFwNJ8bA0/s50-c-k-no/photo.jpg",
            "userId": "103251380706581023835"
          }
        }
      },
      "cell_type": "code",
      "source": [
        "for i in range(9):\n",
        "    plt.subplot(3,3,i+1)\n",
        "    plt.imshow(X_train[i], cmap='gray', interpolation='none')\n",
        "    plt.title(\"Class {}\".format(y_train[i]))"
      ],
      "execution_count": 4,
      "outputs": [
        {
          "output_type": "display_data",
          "data": {
            "image/png": "[encoded data removed]",
            "text/plain": [
              "<matplotlib.figure.Figure at 0x7f2e05a13588>"
            ]
          },
          "metadata": {
            "tags": []
          }
        }
      ]
    },
    {
      "metadata": {
        "id": "EvDvNOYzyB65",
        "colab_type": "text"
      },
      "cell_type": "markdown",
      "source": [
        "## Format the data for training\n",
        "Our neural-network is going to take a single vector for each training example, so we need to reshape the input so that each 28x28 image becomes a single 784 dimensional vector. We'll also scale the inputs to be in the range [0-1] rather than [0-255]"
      ]
    },
    {
      "metadata": {
        "id": "KA29ONvuyB67",
        "colab_type": "code",
        "colab": {
          "autoexec": {
            "startup": false,
            "wait_interval": 0
          },
          "base_uri": "https://localhost:8080/",
          "height": 51
        },
        "outputId": "58bbff5d-c528-4c64-814d-61abb09a79ed",
        "executionInfo": {
          "status": "ok",
          "timestamp": 1520927335143,
          "user_tz": -420,
          "elapsed": 555,
          "user": {
            "displayName": "Tung Nguyen Dinh",
            "photoUrl": "//lh3.googleusercontent.com/-Nztn065aJ4Y/AAAAAAAAAAI/AAAAAAAAAAc/7mgFwNJ8bA0/s50-c-k-no/photo.jpg",
            "userId": "103251380706581023835"
          }
        }
      },
      "cell_type": "code",
      "source": [
        "X_train = X_train.reshape(60000, 784)\n",
        "X_test = X_test.reshape(10000, 784)\n",
        "X_train = X_train.astype('float32')\n",
        "X_test = X_test.astype('float32')\n",
        "X_train /= 255\n",
        "X_test /= 255\n",
        "print(\"Training matrix shape\", X_train.shape)\n",
        "print(\"Testing matrix shape\", X_test.shape)"
      ],
      "execution_count": 5,
      "outputs": [
        {
          "output_type": "stream",
          "text": [
            "Training matrix shape (60000, 784)\n",
            "Testing matrix shape (10000, 784)\n"
          ],
          "name": "stdout"
        }
      ]
    },
    {
      "metadata": {
        "id": "KekjBMhsyB7E",
        "colab_type": "text"
      },
      "cell_type": "markdown",
      "source": [
        "Modify the target matrices to be in the one-hot format, i.e.\n",
        "\n",
        "```\n",
        "0 -> [1, 0, 0, 0, 0, 0, 0, 0, 0]\n",
        "1 -> [0, 1, 0, 0, 0, 0, 0, 0, 0]\n",
        "2 -> [0, 0, 1, 0, 0, 0, 0, 0, 0]\n",
        "etc.\n",
        "```"
      ]
    },
    {
      "metadata": {
        "id": "uowkZpgGyB7G",
        "colab_type": "code",
        "colab": {
          "autoexec": {
            "startup": false,
            "wait_interval": 0
          }
        }
      },
      "cell_type": "code",
      "source": [
        "Y_train = np_utils.to_categorical(y_train, nb_classes)\n",
        "Y_test = np_utils.to_categorical(y_test, nb_classes)"
      ],
      "execution_count": 0,
      "outputs": []
    },
    {
      "metadata": {
        "id": "E97OwYlMyB7O",
        "colab_type": "text"
      },
      "cell_type": "markdown",
      "source": [
        "# Build the neural network\n",
        "Build the neural-network. Here we'll do a simple 3 layer fully connected network.\n",
        "<img src=\"figure.png\" />"
      ]
    },
    {
      "metadata": {
        "id": "ylDQWi6QyB7Q",
        "colab_type": "code",
        "colab": {
          "autoexec": {
            "startup": false,
            "wait_interval": 0
          }
        }
      },
      "cell_type": "code",
      "source": [
        "model = Sequential()\n",
        "model.add(Dense(512, input_shape=(784,)))\n",
        "model.add(Activation('relu')) # An \"activation\" is just a non-linear function applied to the output\n",
        "                              # of the layer above. Here, with a \"rectified linear unit\",\n",
        "                              # we clamp all values below 0 to 0.\n",
        "                           \n",
        "model.add(Dropout(0.2))   # Dropout helps protect the model from memorizing or \"overfitting\" the training data\n",
        "model.add(Dense(512))\n",
        "model.add(Activation('relu'))\n",
        "model.add(Dropout(0.2))\n",
        "model.add(Dense(10))\n",
        "model.add(Activation('softmax')) # This special \"softmax\" activation among other things,\n",
        "                                 # ensures the output is a valid probaility distribution, that is\n",
        "                                 # that its values are all non-negative and sum to 1."
      ],
      "execution_count": 0,
      "outputs": []
    },
    {
      "metadata": {
        "id": "-xw2qDLGyB7Z",
        "colab_type": "text"
      },
      "cell_type": "markdown",
      "source": [
        "## Compile the model\n",
        "Keras is built on top of Theano (and now TensorFlow as well), both packages that allow you to define a *computation graph* in Python, which they then compile and run efficiently on the CPU or GPU without the overhead of the Python interpreter.\n",
        "\n",
        "When compiing a model, Keras asks you to specify your **loss function** and your **optimizer**. The loss function we'll use here is called *categorical crossentropy*, and is a loss function well-suited to comparing two probability distributions.\n",
        "\n",
        "Here our predictions are probability distributions across the ten different digits (e.g. \"we're 80% confident this image is a 3, 10% sure it's an 8, 5% it's a 2, etc.\"), and the target is a probability distribution with 100% for the correct category, and 0 for everything else. The cross-entropy is a measure of how different your predicted distribution is from the target distribution. [More detail at Wikipedia](https://en.wikipedia.org/wiki/Cross_entropy)\n",
        "\n",
        "The optimizer helps determine how quickly the model learns, how resistent it is to getting \"stuck\" or \"blowing up\". We won't discuss this in too much detail, but \"adam\" is often a good choice (developed here at U of T)."
      ]
    },
    {
      "metadata": {
        "id": "arKt5qvPyB7b",
        "colab_type": "code",
        "colab": {
          "autoexec": {
            "startup": false,
            "wait_interval": 0
          }
        }
      },
      "cell_type": "code",
      "source": [
        "model.compile(loss='categorical_crossentropy', optimizer='adam', metrics=['accuracy'])"
      ],
      "execution_count": 0,
      "outputs": []
    },
    {
      "metadata": {
        "id": "Rb4UVq1gyB7i",
        "colab_type": "text"
      },
      "cell_type": "markdown",
      "source": [
        "## Train the model!\n",
        "This is the fun part: you can feed the training data loaded in earlier into this model and it will learn to classify digits"
      ]
    },
    {
      "metadata": {
        "id": "XRW2yQDyyB7k",
        "colab_type": "code",
        "colab": {
          "autoexec": {
            "startup": false,
            "wait_interval": 0
          },
          "base_uri": "https://localhost:8080/",
          "height": 445
        },
        "outputId": "20d5cfba-c858-46c4-91bf-6b4a19f970b7",
        "executionInfo": {
          "status": "ok",
          "timestamp": 1520927461096,
          "user_tz": -420,
          "elapsed": 120974,
          "user": {
            "displayName": "Tung Nguyen Dinh",
            "photoUrl": "//lh3.googleusercontent.com/-Nztn065aJ4Y/AAAAAAAAAAI/AAAAAAAAAAc/7mgFwNJ8bA0/s50-c-k-no/photo.jpg",
            "userId": "103251380706581023835"
          }
        }
      },
      "cell_type": "code",
      "source": [
        "model.fit(X_train, Y_train,\n",
        "          batch_size=128, nb_epoch=10, verbose=1,\n",
        "          validation_data=(X_test, Y_test))"
      ],
      "execution_count": 9,
      "outputs": [
        {
          "output_type": "stream",
          "text": [
            "Train on 60000 samples, validate on 10000 samples\n",
            "Epoch 1/10\n",
            "  896/60000 [..............................] - ETA: 11s - loss: 1.7947 - acc: 0.4643"
          ],
          "name": "stdout"
        },
        {
          "output_type": "stream",
          "text": [
            "/usr/local/lib/python3.6/dist-packages/mxnet/module/bucketing_module.py:403: UserWarning: Optimizer created manually outside Module but rescale_grad is not normalized to 1.0/batch_size/num_workers (1.0 vs. 0.0078125). Is this intended?\n",
            "  force_init=force_init)\n"
          ],
          "name": "stderr"
        },
        {
          "output_type": "stream",
          "text": [
            "60000/60000 [==============================] - 10s - loss: 0.2503 - acc: 0.9243 - val_loss: 0.1156 - val_acc: 0.9635\n",
            "Epoch 2/10\n",
            "60000/60000 [==============================] - 11s - loss: 0.1025 - acc: 0.9684 - val_loss: 0.0901 - val_acc: 0.9725\n",
            "Epoch 3/10\n",
            "54016/60000 [==========================>...] - ETA: 1s - loss: 0.0720 - acc: 0.9774"
          ],
          "name": "stdout"
        },
        {
          "output_type": "stream",
          "text": [
            "60000/60000 [==============================] - 11s - loss: 0.0718 - acc: 0.9775 - val_loss: 0.0721 - val_acc: 0.9773\n",
            "Epoch 4/10\n",
            "60000/60000 [==============================] - 17s - loss: 0.0575 - acc: 0.9815 - val_loss: 0.0717 - val_acc: 0.9778\n",
            "Epoch 5/10\n",
            "60000/60000 [==============================] - 11s - loss: 0.0432 - acc: 0.9861 - val_loss: 0.0626 - val_acc: 0.9807"
          ],
          "name": "stdout"
        },
        {
          "output_type": "stream",
          "text": [
            "\n",
            "Epoch 6/10\n",
            "60000/60000 [==============================] - 11s - loss: 0.0393 - acc: 0.9878 - val_loss: 0.0757 - val_acc: 0.9785\n",
            "Epoch 7/10\n",
            "60000/60000 [==============================] - 11s - loss: 0.0360 - acc: 0.9882 - val_loss: 0.0667 - val_acc: 0.9809\n",
            "Epoch 8/10\n",
            "44928/60000 [=====================>........] - ETA: 2s - loss: 0.0289 - acc: 0.9903"
          ],
          "name": "stdout"
        },
        {
          "output_type": "stream",
          "text": [
            "60000/60000 [==============================] - 11s - loss: 0.0296 - acc: 0.9901 - val_loss: 0.0647 - val_acc: 0.9813\n",
            "Epoch 9/10\n",
            "60000/60000 [==============================] - 11s - loss: 0.0253 - acc: 0.9915 - val_loss: 0.0725 - val_acc: 0.9804\n",
            "Epoch 10/10\n",
            "60000/60000 [==============================] - 11s - loss: 0.0241 - acc: 0.9917 - val_loss: 0.0776 - val_acc: 0.9803\n"
          ],
          "name": "stdout"
        },
        {
          "output_type": "execute_result",
          "data": {
            "text/plain": [
              "<keras.callbacks.History at 0x7f2e15732cf8>"
            ]
          },
          "metadata": {
            "tags": []
          },
          "execution_count": 9
        }
      ]
    },
    {
      "metadata": {
        "id": "DB3VXmQjyB7t",
        "colab_type": "text"
      },
      "cell_type": "markdown",
      "source": [
        "## Finally, evaluate its performance"
      ]
    },
    {
      "metadata": {
        "id": "BoGKnA0dyB7u",
        "colab_type": "code",
        "colab": {
          "autoexec": {
            "startup": false,
            "wait_interval": 0
          },
          "base_uri": "https://localhost:8080/",
          "height": 51
        },
        "outputId": "9278388d-f4dd-4d25-b937-7bf7fc12f3d8",
        "executionInfo": {
          "status": "ok",
          "timestamp": 1520927462779,
          "user_tz": -420,
          "elapsed": 1601,
          "user": {
            "displayName": "Tung Nguyen Dinh",
            "photoUrl": "//lh3.googleusercontent.com/-Nztn065aJ4Y/AAAAAAAAAAI/AAAAAAAAAAc/7mgFwNJ8bA0/s50-c-k-no/photo.jpg",
            "userId": "103251380706581023835"
          }
        }
      },
      "cell_type": "code",
      "source": [
        "score = model.evaluate(X_test, Y_test, verbose=0)\n",
        "print('Test score:', score[0])\n",
        "print('Test accuracy:', score[1])"
      ],
      "execution_count": 10,
      "outputs": [
        {
          "output_type": "stream",
          "text": [
            "Test score: 0.0776189754019\n",
            "Test accuracy: 0.9803\n"
          ],
          "name": "stdout"
        }
      ]
    },
    {
      "metadata": {
        "id": "HCDJ73I6yB77",
        "colab_type": "text"
      },
      "cell_type": "markdown",
      "source": [
        "### Inspecting the output\n",
        "\n",
        "It's always a good idea to inspect the output and make sure everything looks sane. Here we'll look at some examples it gets right, and some examples it gets wrong."
      ]
    },
    {
      "metadata": {
        "id": "qsmnNa6YyB79",
        "colab_type": "code",
        "colab": {
          "autoexec": {
            "startup": false,
            "wait_interval": 0
          },
          "base_uri": "https://localhost:8080/",
          "height": 34
        },
        "outputId": "19c34989-5082-41ba-ca63-50628ba900cd",
        "executionInfo": {
          "status": "ok",
          "timestamp": 1520927464576,
          "user_tz": -420,
          "elapsed": 1538,
          "user": {
            "displayName": "Tung Nguyen Dinh",
            "photoUrl": "//lh3.googleusercontent.com/-Nztn065aJ4Y/AAAAAAAAAAI/AAAAAAAAAAc/7mgFwNJ8bA0/s50-c-k-no/photo.jpg",
            "userId": "103251380706581023835"
          }
        }
      },
      "cell_type": "code",
      "source": [
        "# The predict_classes function outputs the highest probability class\n",
        "# according to the trained classifier for each input example.\n",
        "predicted_classes = model.predict_classes(X_test)\n",
        "\n",
        "# Check which items we got right / wrong\n",
        "correct_indices = np.nonzero(predicted_classes == y_test)[0]\n",
        "incorrect_indices = np.nonzero(predicted_classes != y_test)[0]"
      ],
      "execution_count": 11,
      "outputs": [
        {
          "output_type": "stream",
          "text": [
            " 9696/10000 [============================>.] - ETA: 0s"
          ],
          "name": "stdout"
        }
      ]
    },
    {
      "metadata": {
        "id": "O74wj8zJyB8G",
        "colab_type": "code",
        "colab": {
          "autoexec": {
            "startup": false,
            "wait_interval": 0
          },
          "base_uri": "https://localhost:8080/",
          "height": 869
        },
        "outputId": "300f33dc-050d-4a00-f286-cfbb1491396b",
        "executionInfo": {
          "status": "ok",
          "timestamp": 1520927466927,
          "user_tz": -420,
          "elapsed": 2305,
          "user": {
            "displayName": "Tung Nguyen Dinh",
            "photoUrl": "//lh3.googleusercontent.com/-Nztn065aJ4Y/AAAAAAAAAAI/AAAAAAAAAAc/7mgFwNJ8bA0/s50-c-k-no/photo.jpg",
            "userId": "103251380706581023835"
          }
        }
      },
      "cell_type": "code",
      "source": [
        "plt.figure()\n",
        "for i, correct in enumerate(correct_indices[:9]):\n",
        "    plt.subplot(3,3,i+1)\n",
        "    plt.imshow(X_test[correct].reshape(28,28), cmap='gray', interpolation='none')\n",
        "    plt.title(\"Predicted {}, Class {}\".format(predicted_classes[correct], y_test[correct]))\n",
        "    \n",
        "plt.figure()\n",
        "for i, incorrect in enumerate(incorrect_indices[:9]):\n",
        "    plt.subplot(3,3,i+1)\n",
        "    plt.imshow(X_test[incorrect].reshape(28,28), cmap='gray', interpolation='none')\n",
        "    plt.title(\"Predicted {}, Class {}\".format(predicted_classes[incorrect], y_test[incorrect]))"
      ],
      "execution_count": 12,
      "outputs": [
        {
          "output_type": "display_data",
          "data": {
            "image/png": "[encoded data removed]",
            "text/plain": [
              "<matplotlib.figure.Figure at 0x7f2e037c45c0>"
            ]
          },
          "metadata": {
            "tags": []
          }
        },
        {
          "output_type": "display_data",
          "data": {
            "image/png": "[encoded data removed]",
            "text/plain": [
              "<matplotlib.figure.Figure at 0x7f2e037c4160>"
            ]
          },
          "metadata": {
            "tags": []
          }
        }
      ]
    },
    {
      "metadata": {
        "id": "8qP6QjBjyB8O",
        "colab_type": "text"
      },
      "cell_type": "markdown",
      "source": [
        "# That's all!"
      ]
    },
    {
      "metadata": {
        "id": "0-Qu5vAryB8Q",
        "colab_type": "text"
      },
      "cell_type": "markdown",
      "source": [
        "There are lots of other great examples at the Keras homepage at http://keras.io and in the source code at https://github.com/fchollet/keras"
      ]
    }
  ]
}