{
  "nbformat": 4,
  "nbformat_minor": 0,
  "metadata": {
    "colab": {
      "name": "mnist_keras.ipynb",
      "version": "0.3.2",
      "views": {},
      "default_view": {},
      "provenance": []
    },
    "kernelspec": {
      "name": "python3",
      "display_name": "Python 3"
    },
    "accelerator": "GPU"
  },
  "cells": [
    {
      "metadata": {
        "id": "0BRaxxjAHaA8",
        "colab_type": "code",
        "colab": {
          "autoexec": {
            "startup": false,
            "wait_interval": 0
          },
          "base_uri": "https://localhost:8080/",
          "height": 34
        },
        "outputId": "98e7568b-984e-4f23-eaea-daafe8b93881",
        "executionInfo": {
          "status": "ok",
          "timestamp": 1525336183815,
          "user_tz": -420,
          "elapsed": 1572,
          "user": {
            "displayName": "Tung Nguyen Dinh",
            "photoUrl": "//lh3.googleusercontent.com/-Nztn065aJ4Y/AAAAAAAAAAI/AAAAAAAAAAc/7mgFwNJ8bA0/s50-c-k-no/photo.jpg",
            "userId": "103251380706581023835"
          }
        }
      },
      "cell_type": "code",
      "source": [
        "import numpy as np # linear algebra\n",
        "import pandas as pd # data processing, CSV file I/O (e.g. pd.read_csv)\n",
        "import matplotlib.pyplot as plt\n",
        "%matplotlib inline\n",
        "\n",
        "from keras.models import Sequential\n",
        "from keras.layers import Conv2D,MaxPooling2D,Dense,Dropout,Flatten, BatchNormalization\n",
        "from keras.optimizers import Adam\n",
        "from sklearn.model_selection import train_test_split\n",
        "from keras.utils.np_utils import to_categorical\n",
        "from keras.preprocessing.image import ImageDataGenerator"
      ],
      "execution_count": 2,
      "outputs": [
        {
          "output_type": "stream",
          "text": [
            "Using TensorFlow backend.\n"
          ],
          "name": "stderr"
        }
      ]
    },
    {
      "metadata": {
        "id": "u6KgxlI-NNzl",
        "colab_type": "code",
        "colab": {
          "autoexec": {
            "startup": false,
            "wait_interval": 0
          }
        }
      },
      "cell_type": "code",
      "source": [
        "from keras.backend import tensorflow_backend\n",
        "config = tf.ConfigProto(gpu_options=tf.GPUOptions(allow_growth=True))\n",
        "session = tf.Session(config=config)\n",
        "tensorflow_backend.set_session(session)"
      ],
      "execution_count": 0,
      "outputs": []
    },
    {
      "metadata": {
        "id": "Ecjw3gDhHw2F",
        "colab_type": "code",
        "colab": {
          "autoexec": {
            "startup": false,
            "wait_interval": 0
          },
          "base_uri": "https://localhost:8080/",
          "height": 270
        },
        "outputId": "d7da0298-b2c2-4b81-8254-37d7c7fe6b4a",
        "executionInfo": {
          "status": "ok",
          "timestamp": 1525336309242,
          "user_tz": -420,
          "elapsed": 14919,
          "user": {
            "displayName": "Tung Nguyen Dinh",
            "photoUrl": "//lh3.googleusercontent.com/-Nztn065aJ4Y/AAAAAAAAAAI/AAAAAAAAAAc/7mgFwNJ8bA0/s50-c-k-no/photo.jpg",
            "userId": "103251380706581023835"
          }
        }
      },
      "cell_type": "code",
      "source": [
        "PATH='/content/drive/Colab Notebooks/mnist/data/digit-recognizer/'\n",
        "train = pd.read_csv(f'{PATH}train.csv')\n",
        "test = pd.read_csv(f'{PATH}test.csv')\n",
        "print(test.shape)\n",
        "test.head(5)"
      ],
      "execution_count": 3,
      "outputs": [
        {
          "output_type": "stream",
          "text": [
            "(28000, 784)\n"
          ],
          "name": "stdout"
        },
        {
          "output_type": "execute_result",
          "data": {
            "text/html": [
              "<div>\n",
              "<style scoped>\n",
              "    .dataframe tbody tr th:only-of-type {\n",
              "        vertical-align: middle;\n",
              "    }\n",
              "\n",
              "    .dataframe tbody tr th {\n",
              "        vertical-align: top;\n",
              "    }\n",
              "\n",
              "    .dataframe thead th {\n",
              "        text-align: right;\n",
              "    }\n",
              "</style>\n",
              "<table border=\"1\" class=\"dataframe\">\n",
              "  <thead>\n",
              "    <tr style=\"text-align: right;\">\n",
              "      <th></th>\n",
              "      <th>pixel0</th>\n",
              "      <th>pixel1</th>\n",
              "      <th>pixel2</th>\n",
              "      <th>pixel3</th>\n",
              "      <th>pixel4</th>\n",
              "      <th>pixel5</th>\n",
              "      <th>pixel6</th>\n",
              "      <th>pixel7</th>\n",
              "      <th>pixel8</th>\n",
              "      <th>pixel9</th>\n",
              "      <th>...</th>\n",
              "      <th>pixel774</th>\n",
              "      <th>pixel775</th>\n",
              "      <th>pixel776</th>\n",
              "      <th>pixel777</th>\n",
              "      <th>pixel778</th>\n",
              "      <th>pixel779</th>\n",
              "      <th>pixel780</th>\n",
              "      <th>pixel781</th>\n",
              "      <th>pixel782</th>\n",
              "      <th>pixel783</th>\n",
              "    </tr>\n",
              "  </thead>\n",
              "  <tbody>\n",
              "    <tr>\n",
              "      <th>0</th>\n",
              "      <td>0</td>\n",
              "      <td>0</td>\n",
              "      <td>0</td>\n",
              "      <td>0</td>\n",
              "      <td>0</td>\n",
              "      <td>0</td>\n",
              "      <td>0</td>\n",
              "      <td>0</td>\n",
              "      <td>0</td>\n",
              "      <td>0</td>\n",
              "      <td>...</td>\n",
              "      <td>0</td>\n",
              "      <td>0</td>\n",
              "      <td>0</td>\n",
              "      <td>0</td>\n",
              "      <td>0</td>\n",
              "      <td>0</td>\n",
              "      <td>0</td>\n",
              "      <td>0</td>\n",
              "      <td>0</td>\n",
              "      <td>0</td>\n",
              "    </tr>\n",
              "    <tr>\n",
              "      <th>1</th>\n",
              "      <td>0</td>\n",
              "      <td>0</td>\n",
              "      <td>0</td>\n",
              "      <td>0</td>\n",
              "      <td>0</td>\n",
              "      <td>0</td>\n",
              "      <td>0</td>\n",
              "      <td>0</td>\n",
              "      <td>0</td>\n",
              "      <td>0</td>\n",
              "      <td>...</td>\n",
              "      <td>0</td>\n",
              "      <td>0</td>\n",
              "      <td>0</td>\n",
              "      <td>0</td>\n",
              "      <td>0</td>\n",
              "      <td>0</td>\n",
              "      <td>0</td>\n",
              "      <td>0</td>\n",
              "      <td>0</td>\n",
              "      <td>0</td>\n",
              "    </tr>\n",
              "    <tr>\n",
              "      <th>2</th>\n",
              "      <td>0</td>\n",
              "      <td>0</td>\n",
              "      <td>0</td>\n",
              "      <td>0</td>\n",
              "      <td>0</td>\n",
              "      <td>0</td>\n",
              "      <td>0</td>\n",
              "      <td>0</td>\n",
              "      <td>0</td>\n",
              "      <td>0</td>\n",
              "      <td>...</td>\n",
              "      <td>0</td>\n",
              "      <td>0</td>\n",
              "      <td>0</td>\n",
              "      <td>0</td>\n",
              "      <td>0</td>\n",
              "      <td>0</td>\n",
              "      <td>0</td>\n",
              "      <td>0</td>\n",
              "      <td>0</td>\n",
              "      <td>0</td>\n",
              "    </tr>\n",
              "    <tr>\n",
              "      <th>3</th>\n",
              "      <td>0</td>\n",
              "      <td>0</td>\n",
              "      <td>0</td>\n",
              "      <td>0</td>\n",
              "      <td>0</td>\n",
              "      <td>0</td>\n",
              "      <td>0</td>\n",
              "      <td>0</td>\n",
              "      <td>0</td>\n",
              "      <td>0</td>\n",
              "      <td>...</td>\n",
              "      <td>0</td>\n",
              "      <td>0</td>\n",
              "      <td>0</td>\n",
              "      <td>0</td>\n",
              "      <td>0</td>\n",
              "      <td>0</td>\n",
              "      <td>0</td>\n",
              "      <td>0</td>\n",
              "      <td>0</td>\n",
              "      <td>0</td>\n",
              "    </tr>\n",
              "    <tr>\n",
              "      <th>4</th>\n",
              "      <td>0</td>\n",
              "      <td>0</td>\n",
              "      <td>0</td>\n",
              "      <td>0</td>\n",
              "      <td>0</td>\n",
              "      <td>0</td>\n",
              "      <td>0</td>\n",
              "      <td>0</td>\n",
              "      <td>0</td>\n",
              "      <td>0</td>\n",
              "      <td>...</td>\n",
              "      <td>0</td>\n",
              "      <td>0</td>\n",
              "      <td>0</td>\n",
              "      <td>0</td>\n",
              "      <td>0</td>\n",
              "      <td>0</td>\n",
              "      <td>0</td>\n",
              "      <td>0</td>\n",
              "      <td>0</td>\n",
              "      <td>0</td>\n",
              "    </tr>\n",
              "  </tbody>\n",
              "</table>\n",
              "<p>5 rows × 784 columns</p>\n",
              "</div>"
            ],
            "text/plain": [
              "   pixel0  pixel1  pixel2  pixel3  pixel4  pixel5  pixel6  pixel7  pixel8  \\\n",
              "0       0       0       0       0       0       0       0       0       0   \n",
              "1       0       0       0       0       0       0       0       0       0   \n",
              "2       0       0       0       0       0       0       0       0       0   \n",
              "3       0       0       0       0       0       0       0       0       0   \n",
              "4       0       0       0       0       0       0       0       0       0   \n",
              "\n",
              "   pixel9    ...     pixel774  pixel775  pixel776  pixel777  pixel778  \\\n",
              "0       0    ...            0         0         0         0         0   \n",
              "1       0    ...            0         0         0         0         0   \n",
              "2       0    ...            0         0         0         0         0   \n",
              "3       0    ...            0         0         0         0         0   \n",
              "4       0    ...            0         0         0         0         0   \n",
              "\n",
              "   pixel779  pixel780  pixel781  pixel782  pixel783  \n",
              "0         0         0         0         0         0  \n",
              "1         0         0         0         0         0  \n",
              "2         0         0         0         0         0  \n",
              "3         0         0         0         0         0  \n",
              "4         0         0         0         0         0  \n",
              "\n",
              "[5 rows x 784 columns]"
            ]
          },
          "metadata": {
            "tags": []
          },
          "execution_count": 3
        }
      ]
    },
    {
      "metadata": {
        "id": "yJ0cX6CyIYlI",
        "colab_type": "code",
        "colab": {
          "autoexec": {
            "startup": false,
            "wait_interval": 0
          }
        }
      },
      "cell_type": "code",
      "source": [
        "X_train = (train.iloc[:,1:].values).astype('float32')\n",
        "y_train = train.iloc[:,0].values.astype('int32')\n",
        "X_test = test.values.astype('float32')"
      ],
      "execution_count": 0,
      "outputs": []
    },
    {
      "metadata": {
        "id": "CmqYW3fGIZZh",
        "colab_type": "code",
        "colab": {
          "autoexec": {
            "startup": false,
            "wait_interval": 0
          }
        }
      },
      "cell_type": "code",
      "source": [
        "y_train=to_categorical(y_train)"
      ],
      "execution_count": 0,
      "outputs": []
    },
    {
      "metadata": {
        "id": "9X6bq2OGI_qh",
        "colab_type": "code",
        "colab": {
          "autoexec": {
            "startup": false,
            "wait_interval": 0
          }
        }
      },
      "cell_type": "code",
      "source": [
        "train_images=X_train.reshape((-1,28,28,1))\n",
        "train_images=train_images.astype('float')/255\n",
        "\n",
        "test_images=X_test.reshape((-1,28,28,1))\n",
        "test_images=test_images.astype('float')/255"
      ],
      "execution_count": 0,
      "outputs": []
    },
    {
      "metadata": {
        "id": "qLslw5sPIjkX",
        "colab_type": "code",
        "colab": {
          "autoexec": {
            "startup": false,
            "wait_interval": 0
          }
        }
      },
      "cell_type": "code",
      "source": [
        "x_train,x_val,y_train,y_val=train_test_split(train_images,y_train,test_size=0.2,random_state=23)"
      ],
      "execution_count": 0,
      "outputs": []
    },
    {
      "metadata": {
        "id": "SJOKS4VvI4bK",
        "colab_type": "code",
        "colab": {
          "autoexec": {
            "startup": false,
            "wait_interval": 0
          }
        }
      },
      "cell_type": "code",
      "source": [
        "model=Sequential()\n",
        "model.add(Conv2D(32,(5,5),activation='relu',padding='same',input_shape=(28,28,1)))\n",
        "model.add(Conv2D(32,(5,5),activation='relu',padding='same'))\n",
        "# model.add(BatchNormalization())\n",
        "model.add(MaxPooling2D(2,2))\n",
        "model.add(Dropout(0.3))\n",
        "\n",
        "model.add(Conv2D(64,(3,3),activation='relu',padding='same'))\n",
        "model.add(Conv2D(64,(3,3),activation='relu',padding='same'))\n",
        "# model.add(BatchNormalization())\n",
        "model.add(MaxPooling2D(2,2))\n",
        "model.add(Dropout(0.3))\n",
        "\n",
        "model.add(Conv2D(64,(3,3),activation='relu',padding='same'))\n",
        "model.add(Conv2D(64,(3,3),activation='relu',padding='same'))\n",
        "# model.add(BatchNormalization())\n",
        "model.add(MaxPooling2D(2,2))\n",
        "model.add(Dropout(0.3))\n",
        "\n",
        "model.add(Flatten())\n",
        "model.add(Dense(1024,activation='relu'))\n",
        "model.add(Dropout(0.3))\n",
        "model.add(Dense(512,activation='relu'))\n",
        "model.add(Dropout(0.3))\n",
        "\n",
        "model.add(Dense(10,activation='softmax'))"
      ],
      "execution_count": 0,
      "outputs": []
    },
    {
      "metadata": {
        "id": "-b-MEljZJHBD",
        "colab_type": "code",
        "colab": {
          "autoexec": {
            "startup": false,
            "wait_interval": 0
          },
          "base_uri": "https://localhost:8080/",
          "height": 680
        },
        "outputId": "ac98b7c2-4b92-4749-fcfd-66f5997f28a7",
        "executionInfo": {
          "status": "ok",
          "timestamp": 1525336543102,
          "user_tz": -420,
          "elapsed": 680,
          "user": {
            "displayName": "Tung Nguyen Dinh",
            "photoUrl": "//lh3.googleusercontent.com/-Nztn065aJ4Y/AAAAAAAAAAI/AAAAAAAAAAc/7mgFwNJ8bA0/s50-c-k-no/photo.jpg",
            "userId": "103251380706581023835"
          }
        }
      },
      "cell_type": "code",
      "source": [
        "model.summary()"
      ],
      "execution_count": 13,
      "outputs": [
        {
          "output_type": "stream",
          "text": [
            "_________________________________________________________________\n",
            "Layer (type)                 Output Shape              Param #   \n",
            "=================================================================\n",
            "conv2d_1 (Conv2D)            (None, 28, 28, 32)        832       \n",
            "_________________________________________________________________\n",
            "conv2d_2 (Conv2D)            (None, 28, 28, 32)        25632     \n",
            "_________________________________________________________________\n",
            "max_pooling2d_1 (MaxPooling2 (None, 14, 14, 32)        0         \n",
            "_________________________________________________________________\n",
            "dropout_1 (Dropout)          (None, 14, 14, 32)        0         \n",
            "_________________________________________________________________\n",
            "conv2d_3 (Conv2D)            (None, 14, 14, 64)        18496     \n",
            "_________________________________________________________________\n",
            "conv2d_4 (Conv2D)            (None, 14, 14, 64)        36928     \n",
            "_________________________________________________________________\n",
            "max_pooling2d_2 (MaxPooling2 (None, 7, 7, 64)          0         \n",
            "_________________________________________________________________\n",
            "dropout_2 (Dropout)          (None, 7, 7, 64)          0         \n",
            "_________________________________________________________________\n",
            "conv2d_5 (Conv2D)            (None, 7, 7, 64)          36928     \n",
            "_________________________________________________________________\n",
            "conv2d_6 (Conv2D)            (None, 7, 7, 64)          36928     \n",
            "_________________________________________________________________\n",
            "max_pooling2d_3 (MaxPooling2 (None, 3, 3, 64)          0         \n",
            "_________________________________________________________________\n",
            "dropout_3 (Dropout)          (None, 3, 3, 64)          0         \n",
            "_________________________________________________________________\n",
            "flatten_1 (Flatten)          (None, 576)               0         \n",
            "_________________________________________________________________\n",
            "dense_1 (Dense)              (None, 512)               295424    \n",
            "_________________________________________________________________\n",
            "dropout_4 (Dropout)          (None, 512)               0         \n",
            "_________________________________________________________________\n",
            "dense_2 (Dense)              (None, 10)                5130      \n",
            "=================================================================\n",
            "Total params: 456,298\n",
            "Trainable params: 456,298\n",
            "Non-trainable params: 0\n",
            "_________________________________________________________________\n"
          ],
          "name": "stdout"
        }
      ]
    },
    {
      "metadata": {
        "id": "PAxHMoS-JIx3",
        "colab_type": "code",
        "colab": {
          "autoexec": {
            "startup": false,
            "wait_interval": 0
          }
        }
      },
      "cell_type": "code",
      "source": [
        "model.compile(loss='binary_crossentropy',\n",
        "              optimizer=Adam(1e-4),\n",
        "              metrics=['acc'])"
      ],
      "execution_count": 0,
      "outputs": []
    },
    {
      "metadata": {
        "id": "1jo5ohS5Jckt",
        "colab_type": "code",
        "colab": {
          "autoexec": {
            "startup": false,
            "wait_interval": 0
          }
        }
      },
      "cell_type": "code",
      "source": [
        "datagen=ImageDataGenerator(\n",
        "    rotation_range=10,\n",
        "    width_shift_range=0.2,\n",
        "    height_shift_range=0.2,\n",
        "    shear_range=0.2,\n",
        "    zoom_range=0.1,\n",
        "  \n",
        "    horizontal_flip=False,\n",
        "    vertical_flip=False,\n",
        "    fill_mode='nearest')\n",
        "\n",
        "datagen.fit(x_train)"
      ],
      "execution_count": 0,
      "outputs": []
    },
    {
      "metadata": {
        "id": "ZVjUq9FCJORs",
        "colab_type": "code",
        "colab": {
          "autoexec": {
            "startup": false,
            "wait_interval": 0
          },
          "base_uri": "https://localhost:8080/",
          "height": 3437
        },
        "outputId": "35f5dee0-5d2b-4f0a-8e90-c9ed70897890",
        "executionInfo": {
          "status": "ok",
          "timestamp": 1525338324098,
          "user_tz": -420,
          "elapsed": 1664548,
          "user": {
            "displayName": "Tung Nguyen Dinh",
            "photoUrl": "//lh3.googleusercontent.com/-Nztn065aJ4Y/AAAAAAAAAAI/AAAAAAAAAAc/7mgFwNJ8bA0/s50-c-k-no/photo.jpg",
            "userId": "103251380706581023835"
          }
        }
      },
      "cell_type": "code",
      "source": [
        "data_generator=datagen.flow(x_train,y_train,batch_size=128)\n",
        "history=model.fit_generator(data_generator,\n",
        "                           epochs=50,\n",
        "                           validation_data=(x_val,y_val))"
      ],
      "execution_count": 17,
      "outputs": [
        {
          "output_type": "stream",
          "text": [
            "Epoch 1/100\n",
            "263/263 [==============================] - 18s 68ms/step - loss: 0.2667 - acc: 0.9100 - val_loss: 0.0839 - val_acc: 0.9722\n",
            "Epoch 2/100\n",
            "263/263 [==============================] - 16s 62ms/step - loss: 0.1153 - acc: 0.9566 - val_loss: 0.0401 - val_acc: 0.9862\n",
            "Epoch 3/100\n",
            " 63/263 [======>.......................] - ETA: 11s - loss: 0.0835 - acc: 0.9699"
          ],
          "name": "stdout"
        },
        {
          "output_type": "stream",
          "text": [
            "263/263 [==============================] - 16s 62ms/step - loss: 0.0759 - acc: 0.9728 - val_loss: 0.0282 - val_acc: 0.9903\n",
            "Epoch 4/100\n",
            "263/263 [==============================] - 17s 63ms/step - loss: 0.0606 - acc: 0.9788 - val_loss: 0.0257 - val_acc: 0.9913\n",
            "Epoch 5/100\n",
            " 94/263 [=========>....................] - ETA: 9s - loss: 0.0542 - acc: 0.9812"
          ],
          "name": "stdout"
        },
        {
          "output_type": "stream",
          "text": [
            "263/263 [==============================] - 17s 63ms/step - loss: 0.0510 - acc: 0.9826 - val_loss: 0.0227 - val_acc: 0.9920\n",
            "Epoch 6/100\n",
            "263/263 [==============================] - 16s 63ms/step - loss: 0.0460 - acc: 0.9843 - val_loss: 0.0182 - val_acc: 0.9938\n",
            "Epoch 7/100\n",
            "111/263 [===========>..................] - ETA: 8s - loss: 0.0429 - acc: 0.9855"
          ],
          "name": "stdout"
        },
        {
          "output_type": "stream",
          "text": [
            "263/263 [==============================] - 17s 63ms/step - loss: 0.0404 - acc: 0.9864 - val_loss: 0.0171 - val_acc: 0.9941\n",
            "Epoch 8/100\n",
            "263/263 [==============================] - 17s 64ms/step - loss: 0.0369 - acc: 0.9879 - val_loss: 0.0159 - val_acc: 0.9948\n",
            "Epoch 9/100\n",
            "108/263 [===========>..................] - ETA: 8s - loss: 0.0340 - acc: 0.9886"
          ],
          "name": "stdout"
        },
        {
          "output_type": "stream",
          "text": [
            "263/263 [==============================] - 17s 63ms/step - loss: 0.0334 - acc: 0.9887 - val_loss: 0.0139 - val_acc: 0.9951\n",
            "Epoch 10/100\n",
            "263/263 [==============================] - 17s 64ms/step - loss: 0.0309 - acc: 0.9897 - val_loss: 0.0130 - val_acc: 0.9953\n",
            "Epoch 11/100\n",
            " 98/263 [==========>...................] - ETA: 9s - loss: 0.0319 - acc: 0.9890"
          ],
          "name": "stdout"
        },
        {
          "output_type": "stream",
          "text": [
            "263/263 [==============================] - 17s 63ms/step - loss: 0.0293 - acc: 0.9902 - val_loss: 0.0121 - val_acc: 0.9958\n",
            "Epoch 12/100\n",
            "263/263 [==============================] - 17s 63ms/step - loss: 0.0272 - acc: 0.9910 - val_loss: 0.0111 - val_acc: 0.9964\n",
            "Epoch 13/100\n",
            " 95/263 [=========>....................] - ETA: 9s - loss: 0.0262 - acc: 0.9911"
          ],
          "name": "stdout"
        },
        {
          "output_type": "stream",
          "text": [
            "263/263 [==============================] - 17s 63ms/step - loss: 0.0252 - acc: 0.9916 - val_loss: 0.0104 - val_acc: 0.9965\n",
            "Epoch 14/100\n",
            "263/263 [==============================] - 16s 63ms/step - loss: 0.0239 - acc: 0.9921 - val_loss: 0.0100 - val_acc: 0.9966\n",
            "Epoch 15/100\n",
            " 98/263 [==========>...................] - ETA: 9s - loss: 0.0240 - acc: 0.9921"
          ],
          "name": "stdout"
        },
        {
          "output_type": "stream",
          "text": [
            "263/263 [==============================] - 16s 62ms/step - loss: 0.0234 - acc: 0.9923 - val_loss: 0.0096 - val_acc: 0.9967\n",
            "Epoch 16/100\n",
            "263/263 [==============================] - 16s 62ms/step - loss: 0.0214 - acc: 0.9929 - val_loss: 0.0091 - val_acc: 0.9970\n",
            "Epoch 17/100\n",
            "106/263 [===========>..................] - ETA: 8s - loss: 0.0203 - acc: 0.9932"
          ],
          "name": "stdout"
        },
        {
          "output_type": "stream",
          "text": [
            "263/263 [==============================] - 16s 62ms/step - loss: 0.0211 - acc: 0.9929 - val_loss: 0.0087 - val_acc: 0.9968\n",
            "Epoch 18/100\n",
            "263/263 [==============================] - 16s 62ms/step - loss: 0.0191 - acc: 0.9936 - val_loss: 0.0082 - val_acc: 0.9971\n",
            "Epoch 19/100\n",
            "108/263 [===========>..................] - ETA: 8s - loss: 0.0202 - acc: 0.9934"
          ],
          "name": "stdout"
        },
        {
          "output_type": "stream",
          "text": [
            "263/263 [==============================] - 17s 63ms/step - loss: 0.0191 - acc: 0.9936 - val_loss: 0.0079 - val_acc: 0.9975\n",
            "Epoch 20/100\n",
            "263/263 [==============================] - 16s 62ms/step - loss: 0.0181 - acc: 0.9940 - val_loss: 0.0079 - val_acc: 0.9972\n",
            "Epoch 21/100\n",
            "108/263 [===========>..................] - ETA: 8s - loss: 0.0169 - acc: 0.9942"
          ],
          "name": "stdout"
        },
        {
          "output_type": "stream",
          "text": [
            "263/263 [==============================] - 16s 61ms/step - loss: 0.0173 - acc: 0.9941 - val_loss: 0.0071 - val_acc: 0.9977\n",
            "Epoch 22/100\n",
            "263/263 [==============================] - 17s 64ms/step - loss: 0.0173 - acc: 0.9942 - val_loss: 0.0070 - val_acc: 0.9976\n",
            "Epoch 23/100\n",
            "101/263 [==========>...................] - ETA: 9s - loss: 0.0169 - acc: 0.9946"
          ],
          "name": "stdout"
        },
        {
          "output_type": "stream",
          "text": [
            "263/263 [==============================] - 16s 62ms/step - loss: 0.0162 - acc: 0.9948 - val_loss: 0.0070 - val_acc: 0.9975\n",
            "Epoch 24/100\n",
            "263/263 [==============================] - 16s 62ms/step - loss: 0.0156 - acc: 0.9947 - val_loss: 0.0066 - val_acc: 0.9977\n",
            "Epoch 25/100\n",
            "107/263 [===========>..................] - ETA: 8s - loss: 0.0149 - acc: 0.9952"
          ],
          "name": "stdout"
        },
        {
          "output_type": "stream",
          "text": [
            "263/263 [==============================] - 16s 62ms/step - loss: 0.0151 - acc: 0.9951 - val_loss: 0.0062 - val_acc: 0.9978\n",
            "Epoch 26/100\n",
            "263/263 [==============================] - 17s 63ms/step - loss: 0.0148 - acc: 0.9952 - val_loss: 0.0062 - val_acc: 0.9979\n",
            "Epoch 27/100\n",
            " 95/263 [=========>....................] - ETA: 9s - loss: 0.0143 - acc: 0.9950"
          ],
          "name": "stdout"
        },
        {
          "output_type": "stream",
          "text": [
            "263/263 [==============================] - 17s 63ms/step - loss: 0.0145 - acc: 0.9951 - val_loss: 0.0064 - val_acc: 0.9979\n",
            "Epoch 28/100\n",
            "263/263 [==============================] - 16s 62ms/step - loss: 0.0142 - acc: 0.9952 - val_loss: 0.0061 - val_acc: 0.9978\n",
            "Epoch 29/100\n",
            "110/263 [===========>..................] - ETA: 8s - loss: 0.0135 - acc: 0.9956"
          ],
          "name": "stdout"
        },
        {
          "output_type": "stream",
          "text": [
            "263/263 [==============================] - 16s 62ms/step - loss: 0.0135 - acc: 0.9956 - val_loss: 0.0073 - val_acc: 0.9975\n",
            "Epoch 30/100\n",
            "263/263 [==============================] - 16s 62ms/step - loss: 0.0130 - acc: 0.9956 - val_loss: 0.0057 - val_acc: 0.9981\n",
            "Epoch 31/100\n",
            "117/263 [============>.................] - ETA: 8s - loss: 0.0128 - acc: 0.9958"
          ],
          "name": "stdout"
        },
        {
          "output_type": "stream",
          "text": [
            "263/263 [==============================] - 16s 62ms/step - loss: 0.0125 - acc: 0.9959 - val_loss: 0.0051 - val_acc: 0.9983\n",
            "Epoch 32/100\n",
            "263/263 [==============================] - 16s 62ms/step - loss: 0.0130 - acc: 0.9958 - val_loss: 0.0056 - val_acc: 0.9980\n",
            "Epoch 33/100\n",
            "104/263 [==========>...................] - ETA: 9s - loss: 0.0115 - acc: 0.9965"
          ],
          "name": "stdout"
        },
        {
          "output_type": "stream",
          "text": [
            "263/263 [==============================] - 16s 62ms/step - loss: 0.0120 - acc: 0.9962 - val_loss: 0.0051 - val_acc: 0.9982\n",
            "Epoch 34/100\n",
            "263/263 [==============================] - 17s 63ms/step - loss: 0.0123 - acc: 0.9960 - val_loss: 0.0050 - val_acc: 0.9983\n",
            "Epoch 35/100\n",
            "101/263 [==========>...................] - ETA: 9s - loss: 0.0117 - acc: 0.9961"
          ],
          "name": "stdout"
        },
        {
          "output_type": "stream",
          "text": [
            "263/263 [==============================] - 16s 62ms/step - loss: 0.0116 - acc: 0.9961 - val_loss: 0.0053 - val_acc: 0.9984\n",
            "Epoch 36/100\n",
            "263/263 [==============================] - 16s 62ms/step - loss: 0.0115 - acc: 0.9963 - val_loss: 0.0049 - val_acc: 0.9984\n",
            "Epoch 37/100\n",
            "104/263 [==========>...................] - ETA: 9s - loss: 0.0114 - acc: 0.9964"
          ],
          "name": "stdout"
        },
        {
          "output_type": "stream",
          "text": [
            "263/263 [==============================] - 17s 65ms/step - loss: 0.0113 - acc: 0.9964 - val_loss: 0.0051 - val_acc: 0.9984\n",
            "Epoch 38/100\n",
            "263/263 [==============================] - 17s 66ms/step - loss: 0.0110 - acc: 0.9964 - val_loss: 0.0050 - val_acc: 0.9986\n",
            "Epoch 39/100\n",
            " 94/263 [=========>....................] - ETA: 9s - loss: 0.0106 - acc: 0.9962"
          ],
          "name": "stdout"
        },
        {
          "output_type": "stream",
          "text": [
            "263/263 [==============================] - 17s 64ms/step - loss: 0.0106 - acc: 0.9964 - val_loss: 0.0051 - val_acc: 0.9982\n",
            "Epoch 40/100\n",
            "263/263 [==============================] - 17s 65ms/step - loss: 0.0112 - acc: 0.9965 - val_loss: 0.0051 - val_acc: 0.9983\n",
            "Epoch 41/100\n",
            " 80/263 [========>.....................] - ETA: 10s - loss: 0.0112 - acc: 0.9964"
          ],
          "name": "stdout"
        },
        {
          "output_type": "stream",
          "text": [
            "263/263 [==============================] - 17s 65ms/step - loss: 0.0105 - acc: 0.9965 - val_loss: 0.0049 - val_acc: 0.9984\n",
            "Epoch 42/100\n",
            "263/263 [==============================] - 17s 66ms/step - loss: 0.0098 - acc: 0.9968 - val_loss: 0.0048 - val_acc: 0.9985\n",
            "Epoch 43/100\n",
            " 85/263 [========>.....................] - ETA: 10s - loss: 0.0102 - acc: 0.9966"
          ],
          "name": "stdout"
        },
        {
          "output_type": "stream",
          "text": [
            "263/263 [==============================] - 17s 65ms/step - loss: 0.0105 - acc: 0.9966 - val_loss: 0.0048 - val_acc: 0.9984\n",
            "Epoch 44/100\n",
            "263/263 [==============================] - 17s 65ms/step - loss: 0.0098 - acc: 0.9968 - val_loss: 0.0047 - val_acc: 0.9985\n",
            "Epoch 45/100\n",
            " 84/263 [========>.....................] - ETA: 10s - loss: 0.0102 - acc: 0.9967"
          ],
          "name": "stdout"
        },
        {
          "output_type": "stream",
          "text": [
            "263/263 [==============================] - 17s 65ms/step - loss: 0.0095 - acc: 0.9970 - val_loss: 0.0045 - val_acc: 0.9985\n",
            "Epoch 46/100\n",
            "263/263 [==============================] - 17s 65ms/step - loss: 0.0096 - acc: 0.9969 - val_loss: 0.0046 - val_acc: 0.9984\n",
            "Epoch 47/100\n",
            " 76/263 [=======>......................] - ETA: 10s - loss: 0.0092 - acc: 0.9967"
          ],
          "name": "stdout"
        },
        {
          "output_type": "stream",
          "text": [
            "263/263 [==============================] - 17s 65ms/step - loss: 0.0097 - acc: 0.9969 - val_loss: 0.0051 - val_acc: 0.9982\n",
            "Epoch 48/100\n",
            "263/263 [==============================] - 17s 66ms/step - loss: 0.0090 - acc: 0.9971 - val_loss: 0.0053 - val_acc: 0.9982\n",
            "Epoch 49/100\n",
            " 79/263 [========>.....................] - ETA: 10s - loss: 0.0095 - acc: 0.9969"
          ],
          "name": "stdout"
        },
        {
          "output_type": "stream",
          "text": [
            "263/263 [==============================] - 17s 65ms/step - loss: 0.0095 - acc: 0.9969 - val_loss: 0.0043 - val_acc: 0.9986\n",
            "Epoch 50/100\n",
            "263/263 [==============================] - 17s 65ms/step - loss: 0.0096 - acc: 0.9969 - val_loss: 0.0041 - val_acc: 0.9987\n",
            "Epoch 51/100\n",
            " 91/263 [=========>....................] - ETA: 9s - loss: 0.0087 - acc: 0.9969"
          ],
          "name": "stdout"
        },
        {
          "output_type": "stream",
          "text": [
            "263/263 [==============================] - 17s 64ms/step - loss: 0.0092 - acc: 0.9969 - val_loss: 0.0053 - val_acc: 0.9983\n",
            "Epoch 52/100\n",
            "263/263 [==============================] - 17s 65ms/step - loss: 0.0091 - acc: 0.9970 - val_loss: 0.0044 - val_acc: 0.9985\n",
            "Epoch 53/100\n",
            " 95/263 [=========>....................] - ETA: 9s - loss: 0.0091 - acc: 0.9972"
          ],
          "name": "stdout"
        },
        {
          "output_type": "stream",
          "text": [
            "263/263 [==============================] - 17s 63ms/step - loss: 0.0087 - acc: 0.9972 - val_loss: 0.0042 - val_acc: 0.9987\n",
            "Epoch 54/100\n",
            "263/263 [==============================] - 17s 63ms/step - loss: 0.0084 - acc: 0.9972 - val_loss: 0.0044 - val_acc: 0.9986\n",
            "Epoch 55/100\n",
            "104/263 [==========>...................] - ETA: 9s - loss: 0.0086 - acc: 0.9972"
          ],
          "name": "stdout"
        },
        {
          "output_type": "stream",
          "text": [
            "263/263 [==============================] - 17s 63ms/step - loss: 0.0083 - acc: 0.9974 - val_loss: 0.0042 - val_acc: 0.9987\n",
            "Epoch 56/100\n",
            "263/263 [==============================] - 17s 64ms/step - loss: 0.0085 - acc: 0.9971 - val_loss: 0.0052 - val_acc: 0.9983\n",
            "Epoch 57/100\n",
            " 94/263 [=========>....................] - ETA: 9s - loss: 0.0083 - acc: 0.9972"
          ],
          "name": "stdout"
        },
        {
          "output_type": "stream",
          "text": [
            "263/263 [==============================] - 16s 62ms/step - loss: 0.0085 - acc: 0.9972 - val_loss: 0.0046 - val_acc: 0.9986\n",
            "Epoch 58/100\n",
            "263/263 [==============================] - 16s 62ms/step - loss: 0.0081 - acc: 0.9973 - val_loss: 0.0040 - val_acc: 0.9989\n",
            "Epoch 59/100\n",
            "107/263 [===========>..................] - ETA: 8s - loss: 0.0080 - acc: 0.9972"
          ],
          "name": "stdout"
        },
        {
          "output_type": "stream",
          "text": [
            "263/263 [==============================] - 16s 63ms/step - loss: 0.0078 - acc: 0.9973 - val_loss: 0.0047 - val_acc: 0.9984\n",
            "Epoch 60/100\n",
            "263/263 [==============================] - 16s 63ms/step - loss: 0.0078 - acc: 0.9975 - val_loss: 0.0048 - val_acc: 0.9985\n",
            "Epoch 61/100\n",
            "103/263 [==========>...................] - ETA: 8s - loss: 0.0075 - acc: 0.9975"
          ],
          "name": "stdout"
        },
        {
          "output_type": "stream",
          "text": [
            "263/263 [==============================] - 16s 62ms/step - loss: 0.0076 - acc: 0.9975 - val_loss: 0.0047 - val_acc: 0.9987\n",
            "Epoch 62/100\n",
            "263/263 [==============================] - 16s 62ms/step - loss: 0.0078 - acc: 0.9976 - val_loss: 0.0044 - val_acc: 0.9986\n",
            "Epoch 63/100\n",
            "106/263 [===========>..................] - ETA: 8s - loss: 0.0081 - acc: 0.9974"
          ],
          "name": "stdout"
        },
        {
          "output_type": "stream",
          "text": [
            "263/263 [==============================] - 16s 63ms/step - loss: 0.0075 - acc: 0.9976 - val_loss: 0.0041 - val_acc: 0.9987\n",
            "Epoch 64/100\n",
            "263/263 [==============================] - 16s 63ms/step - loss: 0.0074 - acc: 0.9976 - val_loss: 0.0043 - val_acc: 0.9987\n",
            "Epoch 65/100\n",
            "106/263 [===========>..................] - ETA: 8s - loss: 0.0069 - acc: 0.9977"
          ],
          "name": "stdout"
        },
        {
          "output_type": "stream",
          "text": [
            "263/263 [==============================] - 16s 62ms/step - loss: 0.0074 - acc: 0.9975 - val_loss: 0.0045 - val_acc: 0.9986\n",
            "Epoch 66/100\n",
            "263/263 [==============================] - 16s 62ms/step - loss: 0.0074 - acc: 0.9976 - val_loss: 0.0039 - val_acc: 0.9989\n",
            "Epoch 67/100\n",
            "101/263 [==========>...................] - ETA: 9s - loss: 0.0079 - acc: 0.9975"
          ],
          "name": "stdout"
        },
        {
          "output_type": "stream",
          "text": [
            "263/263 [==============================] - 16s 62ms/step - loss: 0.0073 - acc: 0.9977 - val_loss: 0.0046 - val_acc: 0.9986\n",
            "Epoch 68/100\n",
            "263/263 [==============================] - 16s 63ms/step - loss: 0.0073 - acc: 0.9976 - val_loss: 0.0043 - val_acc: 0.9988\n",
            "Epoch 69/100\n",
            "108/263 [===========>..................] - ETA: 8s - loss: 0.0071 - acc: 0.9978"
          ],
          "name": "stdout"
        },
        {
          "output_type": "stream",
          "text": [
            "263/263 [==============================] - 16s 62ms/step - loss: 0.0069 - acc: 0.9978 - val_loss: 0.0042 - val_acc: 0.9988\n",
            "Epoch 70/100\n",
            "263/263 [==============================] - 16s 62ms/step - loss: 0.0069 - acc: 0.9977 - val_loss: 0.0039 - val_acc: 0.9989\n",
            "Epoch 71/100\n",
            "108/263 [===========>..................] - ETA: 8s - loss: 0.0067 - acc: 0.9979"
          ],
          "name": "stdout"
        },
        {
          "output_type": "stream",
          "text": [
            "263/263 [==============================] - 16s 63ms/step - loss: 0.0073 - acc: 0.9977 - val_loss: 0.0039 - val_acc: 0.9989\n",
            "Epoch 72/100\n",
            "263/263 [==============================] - 16s 62ms/step - loss: 0.0071 - acc: 0.9977 - val_loss: 0.0045 - val_acc: 0.9987\n",
            "Epoch 73/100\n",
            "106/263 [===========>..................] - ETA: 8s - loss: 0.0061 - acc: 0.9981"
          ],
          "name": "stdout"
        },
        {
          "output_type": "stream",
          "text": [
            "263/263 [==============================] - 16s 61ms/step - loss: 0.0067 - acc: 0.9979 - val_loss: 0.0044 - val_acc: 0.9987\n",
            "Epoch 74/100\n",
            "263/263 [==============================] - 16s 62ms/step - loss: 0.0065 - acc: 0.9978 - val_loss: 0.0044 - val_acc: 0.9987\n",
            "Epoch 75/100\n",
            "108/263 [===========>..................] - ETA: 8s - loss: 0.0065 - acc: 0.9978"
          ],
          "name": "stdout"
        },
        {
          "output_type": "stream",
          "text": [
            "263/263 [==============================] - 16s 62ms/step - loss: 0.0069 - acc: 0.9978 - val_loss: 0.0041 - val_acc: 0.9988\n",
            "Epoch 76/100\n",
            "263/263 [==============================] - 16s 62ms/step - loss: 0.0066 - acc: 0.9978 - val_loss: 0.0041 - val_acc: 0.9988\n",
            "Epoch 77/100\n",
            "105/263 [==========>...................] - ETA: 8s - loss: 0.0063 - acc: 0.9980"
          ],
          "name": "stdout"
        },
        {
          "output_type": "stream",
          "text": [
            "263/263 [==============================] - 16s 62ms/step - loss: 0.0066 - acc: 0.9979 - val_loss: 0.0042 - val_acc: 0.9987\n",
            "Epoch 78/100\n",
            "263/263 [==============================] - 17s 63ms/step - loss: 0.0066 - acc: 0.9977 - val_loss: 0.0041 - val_acc: 0.9987\n",
            "Epoch 79/100\n",
            "107/263 [===========>..................] - ETA: 8s - loss: 0.0057 - acc: 0.9981"
          ],
          "name": "stdout"
        },
        {
          "output_type": "stream",
          "text": [
            "263/263 [==============================] - 16s 61ms/step - loss: 0.0063 - acc: 0.9979 - val_loss: 0.0040 - val_acc: 0.9988\n",
            "Epoch 80/100\n",
            "263/263 [==============================] - 17s 64ms/step - loss: 0.0062 - acc: 0.9980 - val_loss: 0.0048 - val_acc: 0.9984\n",
            "Epoch 81/100\n",
            "101/263 [==========>...................] - ETA: 9s - loss: 0.0064 - acc: 0.9980"
          ],
          "name": "stdout"
        },
        {
          "output_type": "stream",
          "text": [
            "263/263 [==============================] - 17s 64ms/step - loss: 0.0065 - acc: 0.9980 - val_loss: 0.0040 - val_acc: 0.9987\n",
            "Epoch 82/100\n",
            "263/263 [==============================] - 16s 63ms/step - loss: 0.0064 - acc: 0.9979 - val_loss: 0.0041 - val_acc: 0.9988\n",
            "Epoch 83/100\n",
            "103/263 [==========>...................] - ETA: 9s - loss: 0.0055 - acc: 0.9981"
          ],
          "name": "stdout"
        },
        {
          "output_type": "stream",
          "text": [
            "263/263 [==============================] - 16s 62ms/step - loss: 0.0057 - acc: 0.9981 - val_loss: 0.0042 - val_acc: 0.9988\n",
            "Epoch 84/100\n",
            "263/263 [==============================] - 16s 62ms/step - loss: 0.0061 - acc: 0.9979 - val_loss: 0.0047 - val_acc: 0.9985\n",
            "Epoch 85/100\n",
            "104/263 [==========>...................] - ETA: 8s - loss: 0.0068 - acc: 0.9978"
          ],
          "name": "stdout"
        },
        {
          "output_type": "stream",
          "text": [
            "263/263 [==============================] - 16s 62ms/step - loss: 0.0064 - acc: 0.9980 - val_loss: 0.0042 - val_acc: 0.9988\n",
            "Epoch 86/100\n",
            "263/263 [==============================] - 16s 62ms/step - loss: 0.0060 - acc: 0.9981 - val_loss: 0.0038 - val_acc: 0.9990\n",
            "Epoch 87/100\n",
            "112/263 [===========>..................] - ETA: 8s - loss: 0.0060 - acc: 0.9979"
          ],
          "name": "stdout"
        },
        {
          "output_type": "stream",
          "text": [
            "263/263 [==============================] - 16s 62ms/step - loss: 0.0058 - acc: 0.9980 - val_loss: 0.0043 - val_acc: 0.9987\n",
            "Epoch 88/100\n",
            "263/263 [==============================] - 16s 63ms/step - loss: 0.0059 - acc: 0.9980 - val_loss: 0.0040 - val_acc: 0.9988\n",
            "Epoch 89/100\n",
            "108/263 [===========>..................] - ETA: 8s - loss: 0.0056 - acc: 0.9982"
          ],
          "name": "stdout"
        },
        {
          "output_type": "stream",
          "text": [
            "263/263 [==============================] - 16s 62ms/step - loss: 0.0057 - acc: 0.9981 - val_loss: 0.0054 - val_acc: 0.9984\n",
            "Epoch 90/100\n",
            "263/263 [==============================] - 17s 63ms/step - loss: 0.0057 - acc: 0.9982 - val_loss: 0.0040 - val_acc: 0.9989\n",
            "Epoch 91/100\n",
            " 94/263 [=========>....................] - ETA: 10s - loss: 0.0058 - acc: 0.9981"
          ],
          "name": "stdout"
        },
        {
          "output_type": "stream",
          "text": [
            "263/263 [==============================] - 17s 65ms/step - loss: 0.0061 - acc: 0.9981 - val_loss: 0.0040 - val_acc: 0.9989\n",
            "Epoch 92/100\n",
            "263/263 [==============================] - 18s 67ms/step - loss: 0.0056 - acc: 0.9982 - val_loss: 0.0042 - val_acc: 0.9988\n",
            "Epoch 93/100\n",
            " 79/263 [========>.....................] - ETA: 10s - loss: 0.0048 - acc: 0.9982"
          ],
          "name": "stdout"
        },
        {
          "output_type": "stream",
          "text": [
            "263/263 [==============================] - 17s 64ms/step - loss: 0.0056 - acc: 0.9981 - val_loss: 0.0043 - val_acc: 0.9989\n",
            "Epoch 94/100\n",
            "263/263 [==============================] - 17s 66ms/step - loss: 0.0056 - acc: 0.9982 - val_loss: 0.0041 - val_acc: 0.9987\n",
            "Epoch 95/100\n",
            " 79/263 [========>.....................] - ETA: 10s - loss: 0.0049 - acc: 0.9985"
          ],
          "name": "stdout"
        },
        {
          "output_type": "stream",
          "text": [
            "263/263 [==============================] - 17s 66ms/step - loss: 0.0051 - acc: 0.9984 - val_loss: 0.0046 - val_acc: 0.9989\n",
            "Epoch 96/100\n",
            "263/263 [==============================] - 17s 65ms/step - loss: 0.0052 - acc: 0.9983 - val_loss: 0.0042 - val_acc: 0.9989\n",
            "Epoch 97/100\n",
            " 78/263 [=======>......................] - ETA: 10s - loss: 0.0057 - acc: 0.9983"
          ],
          "name": "stdout"
        },
        {
          "output_type": "stream",
          "text": [
            "263/263 [==============================] - 17s 65ms/step - loss: 0.0056 - acc: 0.9982 - val_loss: 0.0039 - val_acc: 0.9989\n",
            "Epoch 98/100\n",
            "263/263 [==============================] - 17s 65ms/step - loss: 0.0053 - acc: 0.9982 - val_loss: 0.0041 - val_acc: 0.9989\n",
            "Epoch 99/100\n",
            " 81/263 [========>.....................] - ETA: 10s - loss: 0.0051 - acc: 0.9984\b\b\b\b\b\b\b\b\b\b\b\b\b\b\b\b\b\b\b\b\b\b\b\b\b\b\b\b\b\b\b\b\b\b\b\b\b\b\b\b\b\b\b\b\b\b\b\b\b\b\b\b\b\b\b\b\b\b\b\b\b\b\b\b\b\b\b\b\b\b\b\b\b\b\b\b\b\b\b\b"
          ],
          "name": "stdout"
        },
        {
          "output_type": "stream",
          "text": [
            "263/263 [==============================] - 17s 66ms/step - loss: 0.0053 - acc: 0.9982 - val_loss: 0.0040 - val_acc: 0.9988\n",
            "Epoch 100/100\n",
            "263/263 [==============================] - 17s 65ms/step - loss: 0.0053 - acc: 0.9982 - val_loss: 0.0039 - val_acc: 0.9989\n"
          ],
          "name": "stdout"
        }
      ]
    },
    {
      "metadata": {
        "id": "Seuatt2-JQBk",
        "colab_type": "code",
        "colab": {
          "autoexec": {
            "startup": false,
            "wait_interval": 0
          },
          "base_uri": "https://localhost:8080/",
          "height": 347
        },
        "outputId": "2d68dfe0-9d45-41bd-e1f7-a9b3767b4301",
        "executionInfo": {
          "status": "ok",
          "timestamp": 1525338676461,
          "user_tz": -420,
          "elapsed": 874,
          "user": {
            "displayName": "Tung Nguyen Dinh",
            "photoUrl": "//lh3.googleusercontent.com/-Nztn065aJ4Y/AAAAAAAAAAI/AAAAAAAAAAc/7mgFwNJ8bA0/s50-c-k-no/photo.jpg",
            "userId": "103251380706581023835"
          }
        }
      },
      "cell_type": "code",
      "source": [
        "import matplotlib.pyplot as plt\n",
        "import seaborn as sns; sns.set()\n",
        "\n",
        "acc=history.history['acc']\n",
        "val_acc=history.history['val_acc']\n",
        "loss=history.history['loss']\n",
        "val_loss=history.history['val_loss']\n",
        "\n",
        "epochs=range(1,len(acc)+1)\n",
        "ip_range=[]\n",
        "for i in range(1,len(acc)+1):\n",
        "    ip_range.append(i)\n",
        "\n",
        "    \n",
        "fig = plt.figure()\n",
        "ax1 = fig.add_subplot(111)\n",
        "\n",
        "ax1.scatter(\n",
        "  x=ip_range,\n",
        "  y=acc,\n",
        "  s=10, c='b', marker=\"o\")\n",
        "\n",
        "ax1.scatter(\n",
        "  x=ip_range,\n",
        "  y=val_acc,\n",
        "  s=10, c='r', marker=\"o\",)\n",
        "\n",
        "plt.show()"
      ],
      "execution_count": 25,
      "outputs": [
        {
          "output_type": "display_data",
          "data": {
            "image/png": "[encoded data removed]",
            "text/plain": [
              "<matplotlib.figure.Figure at 0x7fe88b627b00>"
            ]
          },
          "metadata": {
            "tags": []
          }
        }
      ]
    },
    {
      "metadata": {
        "id": "2Y3c_xfzLuCo",
        "colab_type": "code",
        "colab": {
          "autoexec": {
            "startup": false,
            "wait_interval": 0
          },
          "base_uri": "https://localhost:8080/",
          "height": 347
        },
        "outputId": "1e3cbc68-1da4-4ae6-fa5c-1431182e667d",
        "executionInfo": {
          "status": "ok",
          "timestamp": 1525338534124,
          "user_tz": -420,
          "elapsed": 725,
          "user": {
            "displayName": "Tung Nguyen Dinh",
            "photoUrl": "//lh3.googleusercontent.com/-Nztn065aJ4Y/AAAAAAAAAAI/AAAAAAAAAAc/7mgFwNJ8bA0/s50-c-k-no/photo.jpg",
            "userId": "103251380706581023835"
          }
        }
      },
      "cell_type": "code",
      "source": [
        "fig = plt.figure()\n",
        "ax1 = fig.add_subplot(111)\n",
        "ax1.scatter(\n",
        "  x=ip_range,\n",
        "  y=loss,\n",
        "  s=10, c='b', marker=\"o\")\n",
        "\n",
        "ax1.scatter(\n",
        "  x=ip_range,\n",
        "  y=val_loss,\n",
        "  s=10, c='r', marker=\"o\",)\n",
        "\n",
        "plt.show()"
      ],
      "execution_count": 21,
      "outputs": [
        {
          "output_type": "display_data",
          "data": {
            "image/png": "[encoded data removed]",
            "text/plain": [
              "<matplotlib.figure.Figure at 0x7fe8eca8c400>"
            ]
          },
          "metadata": {
            "tags": []
          }
        }
      ]
    },
    {
      "metadata": {
        "id": "7v_lXPFCSXD5",
        "colab_type": "code",
        "colab": {
          "autoexec": {
            "startup": false,
            "wait_interval": 0
          }
        }
      },
      "cell_type": "code",
      "source": [
        "model.save('models/minist_keras.h5')"
      ],
      "execution_count": 0,
      "outputs": []
    },
    {
      "metadata": {
        "id": "lfsF-j1te-Kf",
        "colab_type": "code",
        "colab": {
          "autoexec": {
            "startup": false,
            "wait_interval": 0
          }
        }
      },
      "cell_type": "code",
      "source": [
        "predictions = model.predict_classes(test_images, verbose=0)\n",
        "\n",
        "submissions=pd.DataFrame({\"ImageId\": list(range(1,len(predictions)+1)),\n",
        "                         \"Label\": predictions})\n",
        "submissions.to_csv(\"mnist_keras.csv\", index=False, header=True)"
      ],
      "execution_count": 0,
      "outputs": []
    }
  ]
}