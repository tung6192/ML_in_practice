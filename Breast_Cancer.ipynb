{
 "cells": [
  {
   "cell_type": "code",
   "execution_count": 1,
   "metadata": {
    "colab": {
     "autoexec": {
      "startup": false,
      "wait_interval": 0
     }
    },
    "colab_type": "code",
    "id": "9Wsw5UnjSDb7"
   },
   "outputs": [],
   "source": [
    "from sklearn import preprocessing\n",
    "from sklearn import model_selection\n",
    "from sklearn.pipeline import Pipeline\n",
    "import matplotlib.pyplot as plt\n",
    "import numpy as np\n",
    "import pandas as pd\n",
    "import seaborn as sns; sns.set()"
   ]
  },
  {
   "cell_type": "code",
   "execution_count": 2,
   "metadata": {
    "colab": {
     "autoexec": {
      "startup": false,
      "wait_interval": 0
     },
     "base_uri": "https://localhost:8080/",
     "height": 270,
     "output_extras": [
      {
       "item_id": 1
      }
     ]
    },
    "colab_type": "code",
    "executionInfo": {
     "elapsed": 577,
     "status": "ok",
     "timestamp": 1521095798592,
     "user": {
      "displayName": "Tung Nguyen Dinh",
      "photoUrl": "//lh3.googleusercontent.com/-Nztn065aJ4Y/AAAAAAAAAAI/AAAAAAAAAAc/7mgFwNJ8bA0/s50-c-k-no/photo.jpg",
      "userId": "103251380706581023835"
     },
     "user_tz": -420
    },
    "id": "Z8Z0tDlGS7np",
    "outputId": "92ac1315-6813-4f15-b83b-812e811dac0a"
   },
   "outputs": [
    {
     "data": {
      "text/html": [
       "<div>\n",
       "<style scoped>\n",
       "    .dataframe tbody tr th:only-of-type {\n",
       "        vertical-align: middle;\n",
       "    }\n",
       "\n",
       "    .dataframe tbody tr th {\n",
       "        vertical-align: top;\n",
       "    }\n",
       "\n",
       "    .dataframe thead th {\n",
       "        text-align: right;\n",
       "    }\n",
       "</style>\n",
       "<table border=\"1\" class=\"dataframe\">\n",
       "  <thead>\n",
       "    <tr style=\"text-align: right;\">\n",
       "      <th></th>\n",
       "      <th>id</th>\n",
       "      <th>diagnosis</th>\n",
       "      <th>radius_mean</th>\n",
       "      <th>texture_mean</th>\n",
       "      <th>perimeter_mean</th>\n",
       "      <th>area_mean</th>\n",
       "      <th>smoothness_mean</th>\n",
       "      <th>compactness_mean</th>\n",
       "      <th>concavity_mean</th>\n",
       "      <th>concave points_mean</th>\n",
       "      <th>...</th>\n",
       "      <th>texture_worst</th>\n",
       "      <th>perimeter_worst</th>\n",
       "      <th>area_worst</th>\n",
       "      <th>smoothness_worst</th>\n",
       "      <th>compactness_worst</th>\n",
       "      <th>concavity_worst</th>\n",
       "      <th>concave points_worst</th>\n",
       "      <th>symmetry_worst</th>\n",
       "      <th>fractal_dimension_worst</th>\n",
       "      <th>Unnamed: 32</th>\n",
       "    </tr>\n",
       "  </thead>\n",
       "  <tbody>\n",
       "    <tr>\n",
       "      <th>0</th>\n",
       "      <td>842302</td>\n",
       "      <td>M</td>\n",
       "      <td>17.99</td>\n",
       "      <td>10.38</td>\n",
       "      <td>122.80</td>\n",
       "      <td>1001.0</td>\n",
       "      <td>0.11840</td>\n",
       "      <td>0.27760</td>\n",
       "      <td>0.3001</td>\n",
       "      <td>0.14710</td>\n",
       "      <td>...</td>\n",
       "      <td>17.33</td>\n",
       "      <td>184.60</td>\n",
       "      <td>2019.0</td>\n",
       "      <td>0.1622</td>\n",
       "      <td>0.6656</td>\n",
       "      <td>0.7119</td>\n",
       "      <td>0.2654</td>\n",
       "      <td>0.4601</td>\n",
       "      <td>0.11890</td>\n",
       "      <td>NaN</td>\n",
       "    </tr>\n",
       "    <tr>\n",
       "      <th>1</th>\n",
       "      <td>842517</td>\n",
       "      <td>M</td>\n",
       "      <td>20.57</td>\n",
       "      <td>17.77</td>\n",
       "      <td>132.90</td>\n",
       "      <td>1326.0</td>\n",
       "      <td>0.08474</td>\n",
       "      <td>0.07864</td>\n",
       "      <td>0.0869</td>\n",
       "      <td>0.07017</td>\n",
       "      <td>...</td>\n",
       "      <td>23.41</td>\n",
       "      <td>158.80</td>\n",
       "      <td>1956.0</td>\n",
       "      <td>0.1238</td>\n",
       "      <td>0.1866</td>\n",
       "      <td>0.2416</td>\n",
       "      <td>0.1860</td>\n",
       "      <td>0.2750</td>\n",
       "      <td>0.08902</td>\n",
       "      <td>NaN</td>\n",
       "    </tr>\n",
       "    <tr>\n",
       "      <th>2</th>\n",
       "      <td>84300903</td>\n",
       "      <td>M</td>\n",
       "      <td>19.69</td>\n",
       "      <td>21.25</td>\n",
       "      <td>130.00</td>\n",
       "      <td>1203.0</td>\n",
       "      <td>0.10960</td>\n",
       "      <td>0.15990</td>\n",
       "      <td>0.1974</td>\n",
       "      <td>0.12790</td>\n",
       "      <td>...</td>\n",
       "      <td>25.53</td>\n",
       "      <td>152.50</td>\n",
       "      <td>1709.0</td>\n",
       "      <td>0.1444</td>\n",
       "      <td>0.4245</td>\n",
       "      <td>0.4504</td>\n",
       "      <td>0.2430</td>\n",
       "      <td>0.3613</td>\n",
       "      <td>0.08758</td>\n",
       "      <td>NaN</td>\n",
       "    </tr>\n",
       "    <tr>\n",
       "      <th>3</th>\n",
       "      <td>84348301</td>\n",
       "      <td>M</td>\n",
       "      <td>11.42</td>\n",
       "      <td>20.38</td>\n",
       "      <td>77.58</td>\n",
       "      <td>386.1</td>\n",
       "      <td>0.14250</td>\n",
       "      <td>0.28390</td>\n",
       "      <td>0.2414</td>\n",
       "      <td>0.10520</td>\n",
       "      <td>...</td>\n",
       "      <td>26.50</td>\n",
       "      <td>98.87</td>\n",
       "      <td>567.7</td>\n",
       "      <td>0.2098</td>\n",
       "      <td>0.8663</td>\n",
       "      <td>0.6869</td>\n",
       "      <td>0.2575</td>\n",
       "      <td>0.6638</td>\n",
       "      <td>0.17300</td>\n",
       "      <td>NaN</td>\n",
       "    </tr>\n",
       "    <tr>\n",
       "      <th>4</th>\n",
       "      <td>84358402</td>\n",
       "      <td>M</td>\n",
       "      <td>20.29</td>\n",
       "      <td>14.34</td>\n",
       "      <td>135.10</td>\n",
       "      <td>1297.0</td>\n",
       "      <td>0.10030</td>\n",
       "      <td>0.13280</td>\n",
       "      <td>0.1980</td>\n",
       "      <td>0.10430</td>\n",
       "      <td>...</td>\n",
       "      <td>16.67</td>\n",
       "      <td>152.20</td>\n",
       "      <td>1575.0</td>\n",
       "      <td>0.1374</td>\n",
       "      <td>0.2050</td>\n",
       "      <td>0.4000</td>\n",
       "      <td>0.1625</td>\n",
       "      <td>0.2364</td>\n",
       "      <td>0.07678</td>\n",
       "      <td>NaN</td>\n",
       "    </tr>\n",
       "  </tbody>\n",
       "</table>\n",
       "<p>5 rows × 33 columns</p>\n",
       "</div>"
      ],
      "text/plain": [
       "         id diagnosis  radius_mean  texture_mean  perimeter_mean  area_mean  \\\n",
       "0    842302         M        17.99         10.38          122.80     1001.0   \n",
       "1    842517         M        20.57         17.77          132.90     1326.0   \n",
       "2  84300903         M        19.69         21.25          130.00     1203.0   \n",
       "3  84348301         M        11.42         20.38           77.58      386.1   \n",
       "4  84358402         M        20.29         14.34          135.10     1297.0   \n",
       "\n",
       "   smoothness_mean  compactness_mean  concavity_mean  concave points_mean  \\\n",
       "0          0.11840           0.27760          0.3001              0.14710   \n",
       "1          0.08474           0.07864          0.0869              0.07017   \n",
       "2          0.10960           0.15990          0.1974              0.12790   \n",
       "3          0.14250           0.28390          0.2414              0.10520   \n",
       "4          0.10030           0.13280          0.1980              0.10430   \n",
       "\n",
       "      ...       texture_worst  perimeter_worst  area_worst  smoothness_worst  \\\n",
       "0     ...               17.33           184.60      2019.0            0.1622   \n",
       "1     ...               23.41           158.80      1956.0            0.1238   \n",
       "2     ...               25.53           152.50      1709.0            0.1444   \n",
       "3     ...               26.50            98.87       567.7            0.2098   \n",
       "4     ...               16.67           152.20      1575.0            0.1374   \n",
       "\n",
       "   compactness_worst  concavity_worst  concave points_worst  symmetry_worst  \\\n",
       "0             0.6656           0.7119                0.2654          0.4601   \n",
       "1             0.1866           0.2416                0.1860          0.2750   \n",
       "2             0.4245           0.4504                0.2430          0.3613   \n",
       "3             0.8663           0.6869                0.2575          0.6638   \n",
       "4             0.2050           0.4000                0.1625          0.2364   \n",
       "\n",
       "   fractal_dimension_worst  Unnamed: 32  \n",
       "0                  0.11890          NaN  \n",
       "1                  0.08902          NaN  \n",
       "2                  0.08758          NaN  \n",
       "3                  0.17300          NaN  \n",
       "4                  0.07678          NaN  \n",
       "\n",
       "[5 rows x 33 columns]"
      ]
     },
     "execution_count": 2,
     "metadata": {},
     "output_type": "execute_result"
    }
   ],
   "source": [
    "data = pd.read_csv(\"./Data/data.csv\")\n",
    "data.head(5)"
   ]
  },
  {
   "cell_type": "code",
   "execution_count": 3,
   "metadata": {},
   "outputs": [
    {
     "data": {
      "text/plain": [
       "diagnosis\n",
       "B    357\n",
       "M    212\n",
       "Name: id, dtype: int64"
      ]
     },
     "execution_count": 3,
     "metadata": {},
     "output_type": "execute_result"
    }
   ],
   "source": [
    "data.groupby(['diagnosis']).count().iloc[:, 0]"
   ]
  },
  {
   "cell_type": "code",
   "execution_count": null,
   "metadata": {},
   "outputs": [],
   "source": []
  },
  {
   "cell_type": "code",
   "execution_count": 4,
   "metadata": {
    "colab": {
     "autoexec": {
      "startup": false,
      "wait_interval": 0
     },
     "base_uri": "https://localhost:8080/",
     "height": 115,
     "output_extras": [
      {
       "item_id": 1
      }
     ]
    },
    "colab_type": "code",
    "executionInfo": {
     "elapsed": 783,
     "status": "ok",
     "timestamp": 1521095799710,
     "user": {
      "displayName": "Tung Nguyen Dinh",
      "photoUrl": "//lh3.googleusercontent.com/-Nztn065aJ4Y/AAAAAAAAAAI/AAAAAAAAAAc/7mgFwNJ8bA0/s50-c-k-no/photo.jpg",
      "userId": "103251380706581023835"
     },
     "user_tz": -420
    },
    "id": "QUqvOyJnZc9Y",
    "outputId": "427dc454-fec2-4ad1-f91c-87c960974137"
   },
   "outputs": [
    {
     "data": {
      "text/html": [
       "<div>\n",
       "<style scoped>\n",
       "    .dataframe tbody tr th:only-of-type {\n",
       "        vertical-align: middle;\n",
       "    }\n",
       "\n",
       "    .dataframe tbody tr th {\n",
       "        vertical-align: top;\n",
       "    }\n",
       "\n",
       "    .dataframe thead th {\n",
       "        text-align: right;\n",
       "    }\n",
       "</style>\n",
       "<table border=\"1\" class=\"dataframe\">\n",
       "  <thead>\n",
       "    <tr style=\"text-align: right;\">\n",
       "      <th></th>\n",
       "      <th>id</th>\n",
       "      <th>diagnosis</th>\n",
       "      <th>radius_mean</th>\n",
       "      <th>texture_mean</th>\n",
       "      <th>perimeter_mean</th>\n",
       "      <th>area_mean</th>\n",
       "      <th>smoothness_mean</th>\n",
       "      <th>compactness_mean</th>\n",
       "      <th>concavity_mean</th>\n",
       "      <th>concave points_mean</th>\n",
       "      <th>...</th>\n",
       "      <th>texture_worst</th>\n",
       "      <th>perimeter_worst</th>\n",
       "      <th>area_worst</th>\n",
       "      <th>smoothness_worst</th>\n",
       "      <th>compactness_worst</th>\n",
       "      <th>concavity_worst</th>\n",
       "      <th>concave points_worst</th>\n",
       "      <th>symmetry_worst</th>\n",
       "      <th>fractal_dimension_worst</th>\n",
       "      <th>Unnamed: 32</th>\n",
       "    </tr>\n",
       "  </thead>\n",
       "  <tbody>\n",
       "  </tbody>\n",
       "</table>\n",
       "<p>0 rows × 33 columns</p>\n",
       "</div>"
      ],
      "text/plain": [
       "Empty DataFrame\n",
       "Columns: [id, diagnosis, radius_mean, texture_mean, perimeter_mean, area_mean, smoothness_mean, compactness_mean, concavity_mean, concave points_mean, symmetry_mean, fractal_dimension_mean, radius_se, texture_se, perimeter_se, area_se, smoothness_se, compactness_se, concavity_se, concave points_se, symmetry_se, fractal_dimension_se, radius_worst, texture_worst, perimeter_worst, area_worst, smoothness_worst, compactness_worst, concavity_worst, concave points_worst, symmetry_worst, fractal_dimension_worst, Unnamed: 32]\n",
       "Index: []\n",
       "\n",
       "[0 rows x 33 columns]"
      ]
     },
     "execution_count": 4,
     "metadata": {},
     "output_type": "execute_result"
    }
   ],
   "source": [
    "# #Show all rows containt Null values\n",
    "data.iloc[data.index[(data.T == np.nan).sum() > 1]]\n",
    "# show statistics\n",
    "# data.count() "
   ]
  },
  {
   "cell_type": "code",
   "execution_count": 5,
   "metadata": {
    "colab": {
     "autoexec": {
      "startup": false,
      "wait_interval": 0
     }
    },
    "colab_type": "code",
    "id": "ShXva2HtaEGn"
   },
   "outputs": [],
   "source": [
    "# Get labels and features\n",
    "\n",
    "# Encoding labels\n",
    "labels_raw = np.asarray(data.iloc[:, 1])\n",
    "le = preprocessing.LabelEncoder()\n",
    "labels = le.fit_transform(labels_raw)\n",
    "\n",
    "# Feature Normalization\n",
    "features = np.asarray(data.iloc[:, 2:-1])"
   ]
  },
  {
   "cell_type": "code",
   "execution_count": 6,
   "metadata": {
    "colab": {
     "autoexec": {
      "startup": false,
      "wait_interval": 0
     },
     "base_uri": "https://localhost:8080/",
     "height": 34,
     "output_extras": [
      {
       "item_id": 1
      }
     ]
    },
    "colab_type": "code",
    "executionInfo": {
     "elapsed": 762,
     "status": "ok",
     "timestamp": 1521095802030,
     "user": {
      "displayName": "Tung Nguyen Dinh",
      "photoUrl": "//lh3.googleusercontent.com/-Nztn065aJ4Y/AAAAAAAAAAI/AAAAAAAAAAc/7mgFwNJ8bA0/s50-c-k-no/photo.jpg",
      "userId": "103251380706581023835"
     },
     "user_tz": -420
    },
    "id": "kOxtPUy7cGw9",
    "outputId": "30cf9bfb-5e4c-418d-8a57-e5a46793c0dc"
   },
   "outputs": [
    {
     "name": "stdout",
     "output_type": "stream",
     "text": [
      "TRAIN: (426,) TEST: (143,)\n"
     ]
    }
   ],
   "source": [
    "# Random split\n",
    "# from sklearn.model_selection import train_test_split\n",
    "# X_train, X_test, y_train, y_test = train_test_split(features, labels, test_size=0.3)\n",
    "\n",
    "# Stratified Split to Train/Validation and Test Dataset\n",
    "def split_data(X, y=None, n_splits=4):\n",
    "    skf = model_selection.StratifiedKFold(n_splits=n_splits, shuffle=True)\n",
    "    \n",
    "    train_index, test_index = next(skf.split(X, y))\n",
    "    print(\"TRAIN:\", train_index.shape, \"TEST:\", test_index.shape)\n",
    "    X_train, X_test = features[train_index], features[test_index]\n",
    "    y_train, y_test = labels[train_index], labels[test_index]\n",
    "    \n",
    "    return X_train, X_test, y_train, y_test\n",
    "\n",
    "X_train, X_test, y_train, y_test = split_data(features, labels)"
   ]
  },
  {
   "cell_type": "code",
   "execution_count": 7,
   "metadata": {
    "colab": {
     "autoexec": {
      "startup": false,
      "wait_interval": 0
     },
     "base_uri": "https://localhost:8080/",
     "height": 412,
     "output_extras": [
      {
       "item_id": 1
      },
      {
       "item_id": 2
      }
     ]
    },
    "colab_type": "code",
    "executionInfo": {
     "elapsed": 2636,
     "status": "ok",
     "timestamp": 1521095805036,
     "user": {
      "displayName": "Tung Nguyen Dinh",
      "photoUrl": "//lh3.googleusercontent.com/-Nztn065aJ4Y/AAAAAAAAAAI/AAAAAAAAAAc/7mgFwNJ8bA0/s50-c-k-no/photo.jpg",
      "userId": "103251380706581023835"
     },
     "user_tz": -420
    },
    "id": "axTzYzldqEsx",
    "outputId": "f3e762b2-d378-47f0-bdc7-d97103f64d91"
   },
   "outputs": [
    {
     "name": "stdout",
     "output_type": "stream",
     "text": [
      "Best params:  {'pca__n_components': 10, 'kneighbors__n_neighbors': 5}\n",
      "Best Training Score 0.971830985915493\n",
      "Test Score 0.965034965034965\n"
     ]
    },
    {
     "data": {
      "image/png": "[encoded data removed]",
      "text/plain": [
       "<matplotlib.figure.Figure at 0x7f67bf8540f0>"
      ]
     },
     "metadata": {},
     "output_type": "display_data"
    }
   ],
   "source": [
    "# K Nearest Models\n",
    "from sklearn.neighbors import KNeighborsClassifier\n",
    "from sklearn.decomposition import PCA\n",
    "# allow data processing similar in both validation process and test process\n",
    "pipe = Pipeline([(\"scaler\", preprocessing.StandardScaler()), (\"pca\", PCA()), (\"kneighbors\", KNeighborsClassifier())])\n",
    "param_grid = {\"kneighbors__n_neighbors\": np.arange(1, 15, 2, dtype=np.int32), \"pca__n_components\": [3, 5, 7, 10, 15]}\n",
    "gs = model_selection.GridSearchCV(pipe, param_grid, cv=5, return_train_score=True)\n",
    "\n",
    "# Train set\n",
    "gs.fit(X_train, y_train)\n",
    "results = gs.cv_results_[\"mean_test_score\"].reshape(7,5)\n",
    "ax = sns.heatmap(results, annot=True, fmt=\".4f\", xticklabels=param_grid[\"pca__n_components\"], yticklabels=param_grid[\"kneighbors__n_neighbors\"], cmap=\"RdPu\")\n",
    "ax.set_xlabel(\"n_components\")\n",
    "ax.set_ylabel(\"n_neighbors\")\n",
    "\n",
    "print(\"Best params: \", gs.best_params_)\n",
    "print(\"Best Training Score\", gs.best_score_)\n",
    "\n",
    "# Test set\n",
    "print(\"Test Score\", gs.score(X_test, y_test))"
   ]
  },
  {
   "cell_type": "code",
   "execution_count": 8,
   "metadata": {
    "colab": {
     "autoexec": {
      "startup": false,
      "wait_interval": 0
     },
     "base_uri": "https://localhost:8080/",
     "height": 400,
     "output_extras": [
      {
       "item_id": 1
      },
      {
       "item_id": 2
      }
     ]
    },
    "colab_type": "code",
    "executionInfo": {
     "elapsed": 6060,
     "status": "ok",
     "timestamp": 1521095811165,
     "user": {
      "displayName": "Tung Nguyen Dinh",
      "photoUrl": "//lh3.googleusercontent.com/-Nztn065aJ4Y/AAAAAAAAAAI/AAAAAAAAAAc/7mgFwNJ8bA0/s50-c-k-no/photo.jpg",
      "userId": "103251380706581023835"
     },
     "user_tz": -420
    },
    "id": "xNaNr1_LxyYN",
    "outputId": "64919586-5e0c-4c59-e3e9-c94fb97431dd"
   },
   "outputs": [
    {
     "name": "stdout",
     "output_type": "stream",
     "text": [
      "Best params: {'svm__gamma': 0.01, 'svm__C': 30, 'svm__kernel': 'rbf'}\n",
      "Best Training Score 0.9812206572769953\n",
      "Test Score 0.965034965034965\n"
     ]
    },
    {
     "data": {
      "image/png": "[encoded data removed]",
      "text/plain": [
       "<matplotlib.figure.Figure at 0x7f67bb650f28>"
      ]
     },
     "metadata": {},
     "output_type": "display_data"
    }
   ],
   "source": [
    "# SVM Kernel/ Poly Models\n",
    "from sklearn.svm import SVC\n",
    "pipe = Pipeline([(\"scaler\", preprocessing.StandardScaler()), (\"svm\", SVC())])\n",
    "param_grid = [{'svm__kernel': ['rbf'], 'svm__C': [0.1, 0.3, 1, 3, 10, 30], 'svm__gamma': [0.001, 0.003, 0.01, 0.03, 0.1, 0.3]},\n",
    "             {'svm__kernel': ['poly'], 'svm__degree': [2, 3, 4, 5, 6, 7], 'svm__gamma': [0.01, 0.03, 0.1, 0.3, 1, 3]}]\n",
    "gs = model_selection.GridSearchCV(pipe, param_grid, cv=5, return_train_score=True)\n",
    "\n",
    "# Train set\n",
    "gs.fit(X_train, y_train)\n",
    "\n",
    "# Draw heatmap\n",
    "results = gs.cv_results_[\"mean_test_score\"].reshape(2, 6, 6)\n",
    "\n",
    "f, (ax1, ax2) = plt.subplots(1, 2, figsize=(16, 5))\n",
    "\n",
    "ax1 = sns.heatmap(results[0], annot=True, fmt=\".3f\", xticklabels=param_grid[0][\"svm__gamma\"], yticklabels=param_grid[0][\"svm__C\"], cmap=\"RdPu\", ax=ax1)\n",
    "ax1.set_title(\"Kernel\")\n",
    "ax1.set_xlabel(\"gamma\")\n",
    "ax1.set_ylabel(\"C\")\n",
    "\n",
    "ax2 = sns.heatmap(results[1], annot=True, fmt=\".3f\", xticklabels=param_grid[1][\"svm__gamma\"], yticklabels=param_grid[1][\"svm__degree\"], cmap=\"RdPu\", ax=ax2)\n",
    "ax2.set_title(\"Poly\")\n",
    "ax2.set_xlabel(\"gamma\")\n",
    "ax2.set_ylabel(\"degree\")\n",
    "\n",
    "print(\"Best params:\", gs.best_params_)\n",
    "print(\"Best Training Score\", gs.best_score_)\n",
    "\n",
    "# Test set\n",
    "print(\"Test Score\", gs.score(X_test, y_test))"
   ]
  },
  {
   "cell_type": "code",
   "execution_count": 9,
   "metadata": {
    "colab": {
     "autoexec": {
      "startup": false,
      "wait_interval": 0
     },
     "base_uri": "https://localhost:8080/",
     "height": 412,
     "output_extras": [
      {
       "item_id": 1
      },
      {
       "item_id": 2
      }
     ]
    },
    "colab_type": "code",
    "executionInfo": {
     "elapsed": 8272,
     "status": "ok",
     "timestamp": 1521095819522,
     "user": {
      "displayName": "Tung Nguyen Dinh",
      "photoUrl": "//lh3.googleusercontent.com/-Nztn065aJ4Y/AAAAAAAAAAI/AAAAAAAAAAc/7mgFwNJ8bA0/s50-c-k-no/photo.jpg",
      "userId": "103251380706581023835"
     },
     "user_tz": -420
    },
    "id": "kGry9-pyQ0OZ",
    "outputId": "b63631f2-acf3-42ff-ee9d-4c8f0d75918b"
   },
   "outputs": [
    {
     "name": "stdout",
     "output_type": "stream",
     "text": [
      "Best params:  {'forest__max_depth': 11, 'forest__n_estimators': 25}\n",
      "Best Training Score 0.9647887323943662\n",
      "Test Score 0.972027972027972\n"
     ]
    },
    {
     "data": {
      "image/png": "[encoded data removed]",
      "text/plain": [
       "<matplotlib.figure.Figure at 0x7f67bb2f90f0>"
      ]
     },
     "metadata": {},
     "output_type": "display_data"
    }
   ],
   "source": [
    "# Random Forest\n",
    "from sklearn.ensemble import RandomForestClassifier\n",
    "\n",
    "# allow data processing similar in both validation process and test process\n",
    "pipe = Pipeline([(\"scaler\", preprocessing.StandardScaler()), (\"forest\", RandomForestClassifier())])\n",
    "param_grid = {\"forest__n_estimators\": np.arange(5, 40, 5), \"forest__max_depth\": np.arange(5, 15, 2)}\n",
    "gs = model_selection.GridSearchCV(pipe, param_grid, cv=5, return_train_score=True)\n",
    "\n",
    "# Train set\n",
    "gs.fit(X_train, y_train)\n",
    "results = gs.cv_results_[\"mean_test_score\"].reshape(5,7)\n",
    "ax = sns.heatmap(results, annot=True, fmt=\".4f\", xticklabels=param_grid[\"forest__n_estimators\"], yticklabels=param_grid[\"forest__max_depth\"], cmap=\"RdPu\")\n",
    "ax.set_xlabel(\"n_estimators\")\n",
    "ax.set_ylabel(\"max_depth\")\n",
    "\n",
    "print(\"Best params: \", gs.best_params_)\n",
    "print(\"Best Training Score\", gs.best_score_)\n",
    "\n",
    "# Test set\n",
    "print(\"Test Score\", gs.score(X_test, y_test))"
   ]
  },
  {
   "cell_type": "markdown",
   "metadata": {
    "colab_type": "text",
    "id": "7MwOXjWJKm4k"
   },
   "source": [
    "## Deep Learning\n"
   ]
  },
  {
   "cell_type": "code",
   "execution_count": 24,
   "metadata": {
    "colab": {
     "autoexec": {
      "startup": false,
      "wait_interval": 0
     },
     "base_uri": "https://localhost:8080/",
     "height": 1853,
     "output_extras": [
      {
       "item_id": 17
      },
      {
       "item_id": 18
      }
     ]
    },
    "colab_type": "code",
    "executionInfo": {
     "elapsed": 8794,
     "status": "ok",
     "timestamp": 1521095828379,
     "user": {
      "displayName": "Tung Nguyen Dinh",
      "photoUrl": "//lh3.googleusercontent.com/-Nztn065aJ4Y/AAAAAAAAAAI/AAAAAAAAAAc/7mgFwNJ8bA0/s50-c-k-no/photo.jpg",
      "userId": "103251380706581023835"
     },
     "user_tz": -420
    },
    "id": "i7Fvm4oVsTZk",
    "outputId": "87e1dbdf-821c-4a5f-a100-3b623a1dd5c1"
   },
   "outputs": [
    {
     "name": "stdout",
     "output_type": "stream",
     "text": [
      "TRAIN: (298,) TEST: (100,)\n",
      "Epoches 0 val acc 0.420\n",
      "Epoches 1 val acc 0.630\n",
      "Epoches 2 val acc 0.870\n",
      "Epoches 3 val acc 0.940\n",
      "Epoches 4 val acc 0.940\n",
      "Epoches 5 val acc 0.940\n",
      "Epoches 6 val acc 0.950\n",
      "Epoches 7 val acc 0.940\n",
      "Epoches 8 val acc 0.950\n",
      "Epoches 9 val acc 0.960\n",
      "Epoches 10 val acc 0.970\n",
      "Epoches 11 val acc 0.970\n",
      "Epoches 12 val acc 0.970\n",
      "Epoches 13 val acc 0.970\n",
      "Epoches 14 val acc 0.980\n",
      "Epoches 15 val acc 0.980\n",
      "Epoches 16 val acc 0.980\n",
      "Epoches 17 val acc 0.980\n",
      "Epoches 18 val acc 0.980\n",
      "Epoches 19 val acc 0.980\n",
      "Epoches 20 val acc 0.980\n",
      "Epoches 21 val acc 0.980\n",
      "Epoches 22 val acc 0.980\n",
      "Epoches 23 val acc 0.980\n",
      "Epoches 24 val acc 0.980\n",
      "Epoches 25 val acc 0.980\n",
      "Epoches 26 val acc 0.980\n",
      "Epoches 27 val acc 0.980\n",
      "Epoches 28 val acc 0.980\n",
      "Epoches 29 val acc 0.980\n",
      "Epoches 30 val acc 0.980\n",
      "Epoches 31 val acc 0.980\n",
      "Epoches 32 val acc 0.980\n",
      "Epoches 33 val acc 0.980\n",
      "Epoches 34 val acc 0.980\n",
      "Epoches 35 val acc 0.980\n",
      "Epoches 36 val acc 0.980\n",
      "Epoches 37 val acc 0.980\n",
      "Epoches 38 val acc 0.980\n",
      "Epoches 39 val acc 0.980\n",
      "Epoches 40 val acc 0.980\n",
      "Epoches 41 val acc 0.980\n",
      "Epoches 42 val acc 0.980\n",
      "Epoches 43 val acc 0.980\n",
      "Epoches 44 val acc 0.980\n",
      "Epoches 45 val acc 0.980\n",
      "Epoches 46 val acc 0.980\n",
      "Epoches 47 val acc 0.980\n",
      "Epoches 48 val acc 0.980\n",
      "Epoches 49 val acc 0.980\n",
      "Epoches 50 val acc 0.980\n",
      "Epoches 51 val acc 0.980\n",
      "Epoches 52 val acc 0.980\n",
      "Epoches 53 val acc 0.980\n",
      "Epoches 54 val acc 0.980\n",
      "Epoches 55 val acc 0.980\n",
      "Epoches 56 val acc 0.980\n",
      "Epoches 57 val acc 0.980\n",
      "Epoches 58 val acc 0.980\n",
      "Epoches 59 val acc 0.980\n",
      "Epoches 60 val acc 0.980\n",
      "Epoches 61 val acc 0.980\n",
      "Epoches 62 val acc 0.980\n",
      "Epoches 63 val acc 0.980\n",
      "Epoches 64 val acc 0.980\n",
      "Epoches 65 val acc 0.980\n",
      "Epoches 66 val acc 0.980\n",
      "Epoches 67 val acc 0.980\n",
      "Epoches 68 val acc 0.980\n",
      "Epoches 69 val acc 0.980\n",
      "Epoches 70 val acc 0.980\n",
      "Epoches 71 val acc 0.980\n",
      "Epoches 72 val acc 0.980\n",
      "Epoches 73 val acc 0.980\n",
      "Epoches 74 val acc 0.980\n",
      "Epoches 75 val acc 0.980\n",
      "Epoches 76 val acc 0.980\n",
      "Epoches 77 val acc 0.980\n",
      "Epoches 78 val acc 0.980\n",
      "Epoches 79 val acc 0.980\n",
      "Epoches 80 val acc 0.980\n",
      "Epoches 81 val acc 0.980\n",
      "Epoches 82 val acc 0.980\n",
      "Epoches 83 val acc 0.980\n",
      "Epoches 84 val acc 0.980\n",
      "Epoches 85 val acc 0.980\n",
      "Epoches 86 val acc 0.980\n",
      "Epoches 87 val acc 0.980\n",
      "Epoches 88 val acc 0.980\n",
      "Epoches 89 val acc 0.980\n",
      "Epoches 90 val acc 0.980\n",
      "Epoches 91 val acc 0.980\n",
      "Epoches 92 val acc 0.980\n",
      "Epoches 93 val acc 0.980\n",
      "Epoches 94 val acc 0.980\n",
      "Epoches 95 val acc 0.980\n",
      "Epoches 96 val acc 0.980\n",
      "Epoches 97 val acc 0.980\n",
      "Epoches 98 val acc 0.980\n",
      "Epoches 99 val acc 0.980\n",
      "test acc 0.9883041\n",
      "calling wget https://bin.equinox.io/c/4VmDzA7iaHb/ngrok-stable-linux-amd64.zip ...\n",
      "calling unzip ngrok-stable-linux-amd64.zip ...\n",
      "ngrok installed. path=/tmp/ngrok\n",
      "status: tensorboard=True, ngrok=True\n",
      "tensorboard url= http://e443b270.ngrok.io\n"
     ]
    },
    {
     "data": {
      "text/plain": [
       "'http://e443b270.ngrok.io'"
      ]
     },
     "execution_count": 24,
     "metadata": {
      "tags": []
     },
     "output_type": "execute_result"
    }
   ],
   "source": [
    "# Import library\n",
    "import tensorflow as tf\n",
    "from sklearn.model_selection import train_test_split\n",
    "from keras.models import Sequential\n",
    "from keras.layers import Dense, Dropout\n",
    "\n",
    "# Tensorboard setup\n",
    "from keras.callbacks import TensorBoard\n",
    "import os\n",
    "\n",
    "# Change directory to the notebook directory\n",
    "os.chdir('/content/drive/Colab Notebooks')\n",
    "import tboard\n",
    "\n",
    "# Set up folder to log file\n",
    "ROOT = \"/tmp\"\n",
    "LOG_DIR = os.path.join(ROOT, 'log/')\n",
    "\n",
    "# training and validation data\n",
    "X_set, X_test, y_set, y_test = train_test_split(features, labels, test_size=0.3)\n",
    "# X_set, X_test, y_set, y_test = split_data(features, labels)\n",
    "X_train, X_val, y_train, y_val = split_data(X_set, y_set, n_splits=5)\n",
    "\n",
    "# Processing train and val\n",
    "scl = preprocessing.StandardScaler()\n",
    "X_train = scl.fit_transform(X_train)\n",
    "X_val = scl.transform(X_val)\n",
    "\n",
    "# Hyperparams\n",
    "n_epoches = 100\n",
    "batch_size = 50\n",
    "\n",
    "# Build model\n",
    "model = Sequential([\n",
    "    Dense(50, activation='relu', input_shape=(30,)),\n",
    "    Dense(50, activation='relu'),\n",
    "    Dense(50, activation='relu'),\n",
    "    Dropout(0.5),\n",
    "    Dense(1, activation='sigmoid')\n",
    "])\n",
    "\n",
    "model.compile(optimizer='adam', loss='binary_crossentropy', metrics=['accuracy'])\n",
    "\n",
    "# Tensorboard\n",
    "callback = TensorBoard(LOG_DIR)\n",
    "callback.set_model(model)\n",
    "\n",
    "# Run model\n",
    "for i in range(n_epoches):\n",
    "  for batch_index in range(0, int(len(X_train)/batch_size) + 1):\n",
    "    batch = range(batch_index*batch_size, min(len(X_train), (batch_index+1)*batch_size))\n",
    "    loss = model.train_on_batch(X_train[batch], y_train[batch])\n",
    "  val_loss, val_acc = model.test_on_batch(X_val, y_val)\n",
    "  print(\"Epoches %d val acc %.3f\" % (i, val_acc))\n",
    "  \n",
    "  summary = tf.Summary(value=[\n",
    "      tf.Summary.Value(tag=\"loss\", simple_value=val_loss),\n",
    "      tf.Summary.Value(tag=\"accuracy\", simple_value=val_acc)\n",
    "  ])\n",
    "  callback.writer.add_summary(summary, i)\n",
    "  callback.writer.flush()\n",
    "\n",
    "# Processing train/val and test\n",
    "scl1 = preprocessing.StandardScaler()\n",
    "X_set = scl1.fit_transform(X_set)\n",
    "X_test = scl1.transform(X_test)\n",
    "\n",
    "test_loss, test_acc = model.test_on_batch(X_test, y_test)\n",
    "print(\"test acc\", test_acc)\n",
    "\n",
    "tboard.launch_tensorboard( bin_dir=ROOT, log_dir=LOG_DIR )"
   ]
  }
 ],
 "metadata": {
  "accelerator": "GPU",
  "colab": {
   "default_view": {},
   "name": "Breast_Cancer.ipynb",
   "provenance": [],
   "version": "0.3.2",
   "views": {}
  },
  "kernelspec": {
   "display_name": "Python 3",
   "language": "python",
   "name": "python3"
  },
  "language_info": {
   "codemirror_mode": {
    "name": "ipython",
    "version": 3
   },
   "file_extension": ".py",
   "mimetype": "text/x-python",
   "name": "python",
   "nbconvert_exporter": "python",
   "pygments_lexer": "ipython3",
   "version": "3.5.2"
  }
 },
 "nbformat": 4,
 "nbformat_minor": 2
}
